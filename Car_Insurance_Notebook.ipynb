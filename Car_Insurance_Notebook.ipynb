{
  "nbformat": 4,
  "nbformat_minor": 0,
  "metadata": {
    "colab": {
      "name": "Car_Insurance_Notebook",
      "provenance": [],
      "collapsed_sections": [],
      "authorship_tag": "ABX9TyPx3RwzGj0NNFHgPAgu+Bit",
      "include_colab_link": true
    },
    "kernelspec": {
      "name": "python3",
      "display_name": "Python 3"
    },
    "language_info": {
      "name": "python"
    }
  },
  "cells": [
    {
      "cell_type": "markdown",
      "metadata": {
        "id": "view-in-github",
        "colab_type": "text"
      },
      "source": [
        "<a href=\"https://colab.research.google.com/github/Charanjeev-2k2/Car-Insurance-Prediction/blob/main/Car_Insurance_Notebook.ipynb\" target=\"_parent\"><img src=\"https://colab.research.google.com/assets/colab-badge.svg\" alt=\"Open In Colab\"/></a>"
      ]
    },
    {
      "cell_type": "markdown",
      "metadata": {
        "id": "YIvQ4bQS_-KV"
      },
      "source": [
        "#Importing Libraries and Data"
      ]
    },
    {
      "cell_type": "code",
      "metadata": {
        "id": "D6GpK6_r8Pdz"
      },
      "source": [
        "import pandas as pd\n",
        "import numpy as np\n",
        "import matplotlib.pyplot as plt\n",
        "import seaborn as sns"
      ],
      "execution_count": null,
      "outputs": []
    },
    {
      "cell_type": "code",
      "metadata": {
        "id": "dACI1A-CNNDL"
      },
      "source": [
        "df = pd.read_csv(\"Train_data.csv\") #df1 for train\n",
        "df2 = pd.read_csv(\"Test_data.csv\") #df2 for test"
      ],
      "execution_count": null,
      "outputs": []
    },
    {
      "cell_type": "markdown",
      "metadata": {
        "id": "Y_DzMXV_AGBd"
      },
      "source": [
        "Exploratory Data Analysis (EDA)"
      ]
    },
    {
      "cell_type": "code",
      "metadata": {
        "colab": {
          "base_uri": "https://localhost:8080/"
        },
        "id": "73XnB8eknWKO",
        "outputId": "e9938e1d-87a0-4939-92f3-31c4169fa169"
      },
      "source": [
        "df.shape"
      ],
      "execution_count": null,
      "outputs": [
        {
          "output_type": "execute_result",
          "data": {
            "text/plain": [
              "(3102, 18)"
            ]
          },
          "metadata": {
            "tags": []
          },
          "execution_count": 4
        }
      ]
    },
    {
      "cell_type": "code",
      "metadata": {
        "colab": {
          "base_uri": "https://localhost:8080/"
        },
        "id": "oDjJs4bfSwJf",
        "outputId": "2cf4d071-668e-49d8-9f0f-c2fe1faffc1a"
      },
      "source": [
        "df2.shape"
      ],
      "execution_count": null,
      "outputs": [
        {
          "output_type": "execute_result",
          "data": {
            "text/plain": [
              "(935, 17)"
            ]
          },
          "metadata": {
            "tags": []
          },
          "execution_count": 5
        }
      ]
    },
    {
      "cell_type": "code",
      "metadata": {
        "colab": {
          "base_uri": "https://localhost:8080/",
          "height": 223
        },
        "id": "O2jQ3C819WxF",
        "outputId": "d8d0f128-c2b3-42fa-a268-946a8dd02482"
      },
      "source": [
        "df.head()"
      ],
      "execution_count": null,
      "outputs": [
        {
          "output_type": "execute_result",
          "data": {
            "text/html": [
              "<div>\n",
              "<style scoped>\n",
              "    .dataframe tbody tr th:only-of-type {\n",
              "        vertical-align: middle;\n",
              "    }\n",
              "\n",
              "    .dataframe tbody tr th {\n",
              "        vertical-align: top;\n",
              "    }\n",
              "\n",
              "    .dataframe thead th {\n",
              "        text-align: right;\n",
              "    }\n",
              "</style>\n",
              "<table border=\"1\" class=\"dataframe\">\n",
              "  <thead>\n",
              "    <tr style=\"text-align: right;\">\n",
              "      <th></th>\n",
              "      <th>age</th>\n",
              "      <th>job_type</th>\n",
              "      <th>marital_status</th>\n",
              "      <th>education_level</th>\n",
              "      <th>default_or_not</th>\n",
              "      <th>balance_amt</th>\n",
              "      <th>household_insurance</th>\n",
              "      <th>car_loan</th>\n",
              "      <th>communication</th>\n",
              "      <th>last_contact_day</th>\n",
              "      <th>last_contact_month</th>\n",
              "      <th>no_of_contacts</th>\n",
              "      <th>days_passed</th>\n",
              "      <th>prev_attempts</th>\n",
              "      <th>Outcome</th>\n",
              "      <th>call_start</th>\n",
              "      <th>call_end</th>\n",
              "      <th>car_insurance</th>\n",
              "    </tr>\n",
              "  </thead>\n",
              "  <tbody>\n",
              "    <tr>\n",
              "      <th>0</th>\n",
              "      <td>47.000000</td>\n",
              "      <td>blue-collar</td>\n",
              "      <td>married</td>\n",
              "      <td>primary</td>\n",
              "      <td>0</td>\n",
              "      <td>1112.000000</td>\n",
              "      <td>1</td>\n",
              "      <td>0</td>\n",
              "      <td>cellular</td>\n",
              "      <td>13</td>\n",
              "      <td>may</td>\n",
              "      <td>1</td>\n",
              "      <td>-1</td>\n",
              "      <td>0</td>\n",
              "      <td>NaN</td>\n",
              "      <td>10:22:20</td>\n",
              "      <td>10:24:29</td>\n",
              "      <td>0</td>\n",
              "    </tr>\n",
              "    <tr>\n",
              "      <th>1</th>\n",
              "      <td>46.031442</td>\n",
              "      <td>management</td>\n",
              "      <td>married</td>\n",
              "      <td>tertiary</td>\n",
              "      <td>0</td>\n",
              "      <td>1.312372</td>\n",
              "      <td>0</td>\n",
              "      <td>1</td>\n",
              "      <td>cellular</td>\n",
              "      <td>15</td>\n",
              "      <td>may</td>\n",
              "      <td>3</td>\n",
              "      <td>219</td>\n",
              "      <td>1</td>\n",
              "      <td>other</td>\n",
              "      <td>09:06:30</td>\n",
              "      <td>13:59:48</td>\n",
              "      <td>1</td>\n",
              "    </tr>\n",
              "    <tr>\n",
              "      <th>2</th>\n",
              "      <td>36.000000</td>\n",
              "      <td>services</td>\n",
              "      <td>single</td>\n",
              "      <td>NaN</td>\n",
              "      <td>0</td>\n",
              "      <td>281.000000</td>\n",
              "      <td>1</td>\n",
              "      <td>0</td>\n",
              "      <td>NaN</td>\n",
              "      <td>16</td>\n",
              "      <td>may</td>\n",
              "      <td>1</td>\n",
              "      <td>-1</td>\n",
              "      <td>0</td>\n",
              "      <td>NaN</td>\n",
              "      <td>13:18:41</td>\n",
              "      <td>13:27:16</td>\n",
              "      <td>1</td>\n",
              "    </tr>\n",
              "    <tr>\n",
              "      <th>3</th>\n",
              "      <td>32.000000</td>\n",
              "      <td>technician</td>\n",
              "      <td>single</td>\n",
              "      <td>secondary</td>\n",
              "      <td>0</td>\n",
              "      <td>540.000000</td>\n",
              "      <td>0</td>\n",
              "      <td>1</td>\n",
              "      <td>cellular</td>\n",
              "      <td>29</td>\n",
              "      <td>jan</td>\n",
              "      <td>1</td>\n",
              "      <td>-1</td>\n",
              "      <td>0</td>\n",
              "      <td>NaN</td>\n",
              "      <td>10:09:18</td>\n",
              "      <td>10:21:48</td>\n",
              "      <td>1</td>\n",
              "    </tr>\n",
              "    <tr>\n",
              "      <th>4</th>\n",
              "      <td>30.000000</td>\n",
              "      <td>admin.</td>\n",
              "      <td>single</td>\n",
              "      <td>secondary</td>\n",
              "      <td>0</td>\n",
              "      <td>315.000000</td>\n",
              "      <td>1</td>\n",
              "      <td>0</td>\n",
              "      <td>cellular</td>\n",
              "      <td>14</td>\n",
              "      <td>may</td>\n",
              "      <td>3</td>\n",
              "      <td>346</td>\n",
              "      <td>4</td>\n",
              "      <td>failure</td>\n",
              "      <td>12:12:30</td>\n",
              "      <td>12:27:14</td>\n",
              "      <td>1</td>\n",
              "    </tr>\n",
              "  </tbody>\n",
              "</table>\n",
              "</div>"
            ],
            "text/plain": [
              "         age     job_type marital_status  ... call_start  call_end  car_insurance\n",
              "0  47.000000  blue-collar        married  ...   10:22:20  10:24:29              0\n",
              "1  46.031442   management        married  ...   09:06:30  13:59:48              1\n",
              "2  36.000000     services         single  ...   13:18:41  13:27:16              1\n",
              "3  32.000000   technician         single  ...   10:09:18  10:21:48              1\n",
              "4  30.000000       admin.         single  ...   12:12:30  12:27:14              1\n",
              "\n",
              "[5 rows x 18 columns]"
            ]
          },
          "metadata": {
            "tags": []
          },
          "execution_count": 6
        }
      ]
    },
    {
      "cell_type": "code",
      "metadata": {
        "colab": {
          "base_uri": "https://localhost:8080/"
        },
        "id": "R7lbnAiPFzZ0",
        "outputId": "e1f25992-2ff0-4de3-f8cd-b4b1ca7e9136"
      },
      "source": [
        "df.info()"
      ],
      "execution_count": null,
      "outputs": [
        {
          "output_type": "stream",
          "text": [
            "<class 'pandas.core.frame.DataFrame'>\n",
            "RangeIndex: 3102 entries, 0 to 3101\n",
            "Data columns (total 18 columns):\n",
            " #   Column               Non-Null Count  Dtype  \n",
            "---  ------               --------------  -----  \n",
            " 0   age                  3102 non-null   float64\n",
            " 1   job_type             3091 non-null   object \n",
            " 2   marital_status       3102 non-null   object \n",
            " 3   education_level      2989 non-null   object \n",
            " 4   default_or_not       3102 non-null   int64  \n",
            " 5   balance_amt          3102 non-null   float64\n",
            " 6   household_insurance  3102 non-null   int64  \n",
            " 7   car_loan             3102 non-null   int64  \n",
            " 8   communication        2559 non-null   object \n",
            " 9   last_contact_day     3102 non-null   int64  \n",
            " 10  last_contact_month   3102 non-null   object \n",
            " 11  no_of_contacts       3102 non-null   int64  \n",
            " 12  days_passed          3102 non-null   int64  \n",
            " 13  prev_attempts        3102 non-null   int64  \n",
            " 14  Outcome              751 non-null    object \n",
            " 15  call_start           3102 non-null   object \n",
            " 16  call_end             3102 non-null   object \n",
            " 17  car_insurance        3102 non-null   int64  \n",
            "dtypes: float64(2), int64(8), object(8)\n",
            "memory usage: 436.3+ KB\n"
          ],
          "name": "stdout"
        }
      ]
    },
    {
      "cell_type": "code",
      "metadata": {
        "colab": {
          "base_uri": "https://localhost:8080/",
          "height": 315
        },
        "id": "RtTryrpuF8pa",
        "outputId": "2d4090fd-35d8-4a4f-a0db-2938e1d1f594"
      },
      "source": [
        "df.describe()"
      ],
      "execution_count": null,
      "outputs": [
        {
          "output_type": "execute_result",
          "data": {
            "text/html": [
              "<div>\n",
              "<style scoped>\n",
              "    .dataframe tbody tr th:only-of-type {\n",
              "        vertical-align: middle;\n",
              "    }\n",
              "\n",
              "    .dataframe tbody tr th {\n",
              "        vertical-align: top;\n",
              "    }\n",
              "\n",
              "    .dataframe thead th {\n",
              "        text-align: right;\n",
              "    }\n",
              "</style>\n",
              "<table border=\"1\" class=\"dataframe\">\n",
              "  <thead>\n",
              "    <tr style=\"text-align: right;\">\n",
              "      <th></th>\n",
              "      <th>age</th>\n",
              "      <th>default_or_not</th>\n",
              "      <th>balance_amt</th>\n",
              "      <th>household_insurance</th>\n",
              "      <th>car_loan</th>\n",
              "      <th>last_contact_day</th>\n",
              "      <th>no_of_contacts</th>\n",
              "      <th>days_passed</th>\n",
              "      <th>prev_attempts</th>\n",
              "      <th>car_insurance</th>\n",
              "    </tr>\n",
              "  </thead>\n",
              "  <tbody>\n",
              "    <tr>\n",
              "      <th>count</th>\n",
              "      <td>3102.000000</td>\n",
              "      <td>3102.000000</td>\n",
              "      <td>3102.000000</td>\n",
              "      <td>3102.000000</td>\n",
              "      <td>3102.000000</td>\n",
              "      <td>3102.000000</td>\n",
              "      <td>3102.000000</td>\n",
              "      <td>3102.000000</td>\n",
              "      <td>3102.000000</td>\n",
              "      <td>3102.000000</td>\n",
              "    </tr>\n",
              "    <tr>\n",
              "      <th>mean</th>\n",
              "      <td>41.325847</td>\n",
              "      <td>0.014507</td>\n",
              "      <td>1543.067240</td>\n",
              "      <td>0.465184</td>\n",
              "      <td>0.114442</td>\n",
              "      <td>15.353965</td>\n",
              "      <td>2.356867</td>\n",
              "      <td>52.419084</td>\n",
              "      <td>0.792392</td>\n",
              "      <td>0.567376</td>\n",
              "    </tr>\n",
              "    <tr>\n",
              "      <th>std</th>\n",
              "      <td>11.517698</td>\n",
              "      <td>0.119587</td>\n",
              "      <td>3301.474598</td>\n",
              "      <td>0.498867</td>\n",
              "      <td>0.318399</td>\n",
              "      <td>8.164255</td>\n",
              "      <td>2.594238</td>\n",
              "      <td>109.231364</td>\n",
              "      <td>2.224740</td>\n",
              "      <td>0.495520</td>\n",
              "    </tr>\n",
              "    <tr>\n",
              "      <th>min</th>\n",
              "      <td>18.000000</td>\n",
              "      <td>0.000000</td>\n",
              "      <td>-3058.000000</td>\n",
              "      <td>0.000000</td>\n",
              "      <td>0.000000</td>\n",
              "      <td>1.000000</td>\n",
              "      <td>1.000000</td>\n",
              "      <td>-1.000000</td>\n",
              "      <td>0.000000</td>\n",
              "      <td>0.000000</td>\n",
              "    </tr>\n",
              "    <tr>\n",
              "      <th>25%</th>\n",
              "      <td>32.000000</td>\n",
              "      <td>0.000000</td>\n",
              "      <td>123.821352</td>\n",
              "      <td>0.000000</td>\n",
              "      <td>0.000000</td>\n",
              "      <td>8.000000</td>\n",
              "      <td>1.000000</td>\n",
              "      <td>-1.000000</td>\n",
              "      <td>0.000000</td>\n",
              "      <td>0.000000</td>\n",
              "    </tr>\n",
              "    <tr>\n",
              "      <th>50%</th>\n",
              "      <td>39.000000</td>\n",
              "      <td>0.000000</td>\n",
              "      <td>589.000000</td>\n",
              "      <td>0.000000</td>\n",
              "      <td>0.000000</td>\n",
              "      <td>15.000000</td>\n",
              "      <td>2.000000</td>\n",
              "      <td>-1.000000</td>\n",
              "      <td>0.000000</td>\n",
              "      <td>1.000000</td>\n",
              "    </tr>\n",
              "    <tr>\n",
              "      <th>75%</th>\n",
              "      <td>49.000000</td>\n",
              "      <td>0.000000</td>\n",
              "      <td>1696.000000</td>\n",
              "      <td>1.000000</td>\n",
              "      <td>0.000000</td>\n",
              "      <td>21.000000</td>\n",
              "      <td>3.000000</td>\n",
              "      <td>56.750000</td>\n",
              "      <td>1.000000</td>\n",
              "      <td>1.000000</td>\n",
              "    </tr>\n",
              "    <tr>\n",
              "      <th>max</th>\n",
              "      <td>92.000000</td>\n",
              "      <td>1.000000</td>\n",
              "      <td>52587.000000</td>\n",
              "      <td>1.000000</td>\n",
              "      <td>1.000000</td>\n",
              "      <td>31.000000</td>\n",
              "      <td>43.000000</td>\n",
              "      <td>854.000000</td>\n",
              "      <td>58.000000</td>\n",
              "      <td>1.000000</td>\n",
              "    </tr>\n",
              "  </tbody>\n",
              "</table>\n",
              "</div>"
            ],
            "text/plain": [
              "               age  default_or_not  ...  prev_attempts  car_insurance\n",
              "count  3102.000000     3102.000000  ...    3102.000000    3102.000000\n",
              "mean     41.325847        0.014507  ...       0.792392       0.567376\n",
              "std      11.517698        0.119587  ...       2.224740       0.495520\n",
              "min      18.000000        0.000000  ...       0.000000       0.000000\n",
              "25%      32.000000        0.000000  ...       0.000000       0.000000\n",
              "50%      39.000000        0.000000  ...       0.000000       1.000000\n",
              "75%      49.000000        0.000000  ...       1.000000       1.000000\n",
              "max      92.000000        1.000000  ...      58.000000       1.000000\n",
              "\n",
              "[8 rows x 10 columns]"
            ]
          },
          "metadata": {
            "tags": []
          },
          "execution_count": 10
        }
      ]
    },
    {
      "cell_type": "code",
      "metadata": {
        "colab": {
          "base_uri": "https://localhost:8080/"
        },
        "id": "MQDDP40x9GUY",
        "outputId": "dbab5dc6-b65b-44d4-dfe7-7b5d3ddbee56"
      },
      "source": [
        "alpha = df.corr()\n",
        "alpha[\"car_insurance\"]"
      ],
      "execution_count": null,
      "outputs": [
        {
          "output_type": "execute_result",
          "data": {
            "text/plain": [
              "age                    0.048778\n",
              "default_or_not        -0.046430\n",
              "balance_amt            0.041643\n",
              "household_insurance   -0.183577\n",
              "car_loan              -0.070349\n",
              "last_contact_day      -0.068710\n",
              "no_of_contacts        -0.134481\n",
              "days_passed            0.096490\n",
              "prev_attempts          0.120926\n",
              "car_insurance          1.000000\n",
              "Name: car_insurance, dtype: float64"
            ]
          },
          "metadata": {
            "tags": []
          },
          "execution_count": 12
        }
      ]
    },
    {
      "cell_type": "code",
      "metadata": {
        "colab": {
          "base_uri": "https://localhost:8080/",
          "height": 363
        },
        "id": "dJRiff2ioNL7",
        "outputId": "2f257544-a899-48a4-a59d-3b7d94071a91"
      },
      "source": [
        "df.head(10)"
      ],
      "execution_count": null,
      "outputs": [
        {
          "output_type": "execute_result",
          "data": {
            "text/html": [
              "<div>\n",
              "<style scoped>\n",
              "    .dataframe tbody tr th:only-of-type {\n",
              "        vertical-align: middle;\n",
              "    }\n",
              "\n",
              "    .dataframe tbody tr th {\n",
              "        vertical-align: top;\n",
              "    }\n",
              "\n",
              "    .dataframe thead th {\n",
              "        text-align: right;\n",
              "    }\n",
              "</style>\n",
              "<table border=\"1\" class=\"dataframe\">\n",
              "  <thead>\n",
              "    <tr style=\"text-align: right;\">\n",
              "      <th></th>\n",
              "      <th>age</th>\n",
              "      <th>job_type</th>\n",
              "      <th>marital_status</th>\n",
              "      <th>education_level</th>\n",
              "      <th>default_or_not</th>\n",
              "      <th>balance_amt</th>\n",
              "      <th>household_insurance</th>\n",
              "      <th>car_loan</th>\n",
              "      <th>communication</th>\n",
              "      <th>last_contact_day</th>\n",
              "      <th>last_contact_month</th>\n",
              "      <th>no_of_contacts</th>\n",
              "      <th>days_passed</th>\n",
              "      <th>prev_attempts</th>\n",
              "      <th>Outcome</th>\n",
              "      <th>call_start</th>\n",
              "      <th>call_end</th>\n",
              "      <th>car_insurance</th>\n",
              "    </tr>\n",
              "  </thead>\n",
              "  <tbody>\n",
              "    <tr>\n",
              "      <th>0</th>\n",
              "      <td>47.000000</td>\n",
              "      <td>blue-collar</td>\n",
              "      <td>married</td>\n",
              "      <td>primary</td>\n",
              "      <td>0</td>\n",
              "      <td>1112.000000</td>\n",
              "      <td>1</td>\n",
              "      <td>0</td>\n",
              "      <td>cellular</td>\n",
              "      <td>13</td>\n",
              "      <td>may</td>\n",
              "      <td>1</td>\n",
              "      <td>-1</td>\n",
              "      <td>0</td>\n",
              "      <td>NaN</td>\n",
              "      <td>10:22:20</td>\n",
              "      <td>10:24:29</td>\n",
              "      <td>0</td>\n",
              "    </tr>\n",
              "    <tr>\n",
              "      <th>1</th>\n",
              "      <td>46.031442</td>\n",
              "      <td>management</td>\n",
              "      <td>married</td>\n",
              "      <td>tertiary</td>\n",
              "      <td>0</td>\n",
              "      <td>1.312372</td>\n",
              "      <td>0</td>\n",
              "      <td>1</td>\n",
              "      <td>cellular</td>\n",
              "      <td>15</td>\n",
              "      <td>may</td>\n",
              "      <td>3</td>\n",
              "      <td>219</td>\n",
              "      <td>1</td>\n",
              "      <td>other</td>\n",
              "      <td>09:06:30</td>\n",
              "      <td>13:59:48</td>\n",
              "      <td>1</td>\n",
              "    </tr>\n",
              "    <tr>\n",
              "      <th>2</th>\n",
              "      <td>36.000000</td>\n",
              "      <td>services</td>\n",
              "      <td>single</td>\n",
              "      <td>NaN</td>\n",
              "      <td>0</td>\n",
              "      <td>281.000000</td>\n",
              "      <td>1</td>\n",
              "      <td>0</td>\n",
              "      <td>NaN</td>\n",
              "      <td>16</td>\n",
              "      <td>may</td>\n",
              "      <td>1</td>\n",
              "      <td>-1</td>\n",
              "      <td>0</td>\n",
              "      <td>NaN</td>\n",
              "      <td>13:18:41</td>\n",
              "      <td>13:27:16</td>\n",
              "      <td>1</td>\n",
              "    </tr>\n",
              "    <tr>\n",
              "      <th>3</th>\n",
              "      <td>32.000000</td>\n",
              "      <td>technician</td>\n",
              "      <td>single</td>\n",
              "      <td>secondary</td>\n",
              "      <td>0</td>\n",
              "      <td>540.000000</td>\n",
              "      <td>0</td>\n",
              "      <td>1</td>\n",
              "      <td>cellular</td>\n",
              "      <td>29</td>\n",
              "      <td>jan</td>\n",
              "      <td>1</td>\n",
              "      <td>-1</td>\n",
              "      <td>0</td>\n",
              "      <td>NaN</td>\n",
              "      <td>10:09:18</td>\n",
              "      <td>10:21:48</td>\n",
              "      <td>1</td>\n",
              "    </tr>\n",
              "    <tr>\n",
              "      <th>4</th>\n",
              "      <td>30.000000</td>\n",
              "      <td>admin.</td>\n",
              "      <td>single</td>\n",
              "      <td>secondary</td>\n",
              "      <td>0</td>\n",
              "      <td>315.000000</td>\n",
              "      <td>1</td>\n",
              "      <td>0</td>\n",
              "      <td>cellular</td>\n",
              "      <td>14</td>\n",
              "      <td>may</td>\n",
              "      <td>3</td>\n",
              "      <td>346</td>\n",
              "      <td>4</td>\n",
              "      <td>failure</td>\n",
              "      <td>12:12:30</td>\n",
              "      <td>12:27:14</td>\n",
              "      <td>1</td>\n",
              "    </tr>\n",
              "    <tr>\n",
              "      <th>5</th>\n",
              "      <td>37.000000</td>\n",
              "      <td>management</td>\n",
              "      <td>married</td>\n",
              "      <td>tertiary</td>\n",
              "      <td>0</td>\n",
              "      <td>3737.000000</td>\n",
              "      <td>0</td>\n",
              "      <td>0</td>\n",
              "      <td>cellular</td>\n",
              "      <td>7</td>\n",
              "      <td>jul</td>\n",
              "      <td>1</td>\n",
              "      <td>-1</td>\n",
              "      <td>0</td>\n",
              "      <td>NaN</td>\n",
              "      <td>10:15:03</td>\n",
              "      <td>10:18:47</td>\n",
              "      <td>1</td>\n",
              "    </tr>\n",
              "    <tr>\n",
              "      <th>6</th>\n",
              "      <td>30.000000</td>\n",
              "      <td>blue-collar</td>\n",
              "      <td>married</td>\n",
              "      <td>secondary</td>\n",
              "      <td>0</td>\n",
              "      <td>1.000000</td>\n",
              "      <td>0</td>\n",
              "      <td>1</td>\n",
              "      <td>cellular</td>\n",
              "      <td>9</td>\n",
              "      <td>jul</td>\n",
              "      <td>1</td>\n",
              "      <td>-1</td>\n",
              "      <td>0</td>\n",
              "      <td>NaN</td>\n",
              "      <td>10:51:56</td>\n",
              "      <td>10:57:43</td>\n",
              "      <td>0</td>\n",
              "    </tr>\n",
              "    <tr>\n",
              "      <th>7</th>\n",
              "      <td>21.000000</td>\n",
              "      <td>student</td>\n",
              "      <td>single</td>\n",
              "      <td>primary</td>\n",
              "      <td>0</td>\n",
              "      <td>1596.000000</td>\n",
              "      <td>0</td>\n",
              "      <td>0</td>\n",
              "      <td>cellular</td>\n",
              "      <td>26</td>\n",
              "      <td>aug</td>\n",
              "      <td>1</td>\n",
              "      <td>93</td>\n",
              "      <td>2</td>\n",
              "      <td>failure</td>\n",
              "      <td>10:10:32</td>\n",
              "      <td>10:12:27</td>\n",
              "      <td>0</td>\n",
              "    </tr>\n",
              "    <tr>\n",
              "      <th>8</th>\n",
              "      <td>52.091704</td>\n",
              "      <td>admin.</td>\n",
              "      <td>married</td>\n",
              "      <td>secondary</td>\n",
              "      <td>0</td>\n",
              "      <td>101.453662</td>\n",
              "      <td>0</td>\n",
              "      <td>0</td>\n",
              "      <td>cellular</td>\n",
              "      <td>21</td>\n",
              "      <td>aug</td>\n",
              "      <td>3</td>\n",
              "      <td>-1</td>\n",
              "      <td>0</td>\n",
              "      <td>NaN</td>\n",
              "      <td>16:42:19</td>\n",
              "      <td>16:52:35</td>\n",
              "      <td>1</td>\n",
              "    </tr>\n",
              "    <tr>\n",
              "      <th>9</th>\n",
              "      <td>49.000000</td>\n",
              "      <td>technician</td>\n",
              "      <td>married</td>\n",
              "      <td>secondary</td>\n",
              "      <td>0</td>\n",
              "      <td>412.000000</td>\n",
              "      <td>0</td>\n",
              "      <td>0</td>\n",
              "      <td>cellular</td>\n",
              "      <td>19</td>\n",
              "      <td>aug</td>\n",
              "      <td>8</td>\n",
              "      <td>-1</td>\n",
              "      <td>0</td>\n",
              "      <td>NaN</td>\n",
              "      <td>15:33:44</td>\n",
              "      <td>15:55:17</td>\n",
              "      <td>1</td>\n",
              "    </tr>\n",
              "  </tbody>\n",
              "</table>\n",
              "</div>"
            ],
            "text/plain": [
              "         age     job_type marital_status  ... call_start  call_end  car_insurance\n",
              "0  47.000000  blue-collar        married  ...   10:22:20  10:24:29              0\n",
              "1  46.031442   management        married  ...   09:06:30  13:59:48              1\n",
              "2  36.000000     services         single  ...   13:18:41  13:27:16              1\n",
              "3  32.000000   technician         single  ...   10:09:18  10:21:48              1\n",
              "4  30.000000       admin.         single  ...   12:12:30  12:27:14              1\n",
              "5  37.000000   management        married  ...   10:15:03  10:18:47              1\n",
              "6  30.000000  blue-collar        married  ...   10:51:56  10:57:43              0\n",
              "7  21.000000      student         single  ...   10:10:32  10:12:27              0\n",
              "8  52.091704       admin.        married  ...   16:42:19  16:52:35              1\n",
              "9  49.000000   technician        married  ...   15:33:44  15:55:17              1\n",
              "\n",
              "[10 rows x 18 columns]"
            ]
          },
          "metadata": {
            "tags": []
          },
          "execution_count": 681
        }
      ]
    },
    {
      "cell_type": "code",
      "metadata": {
        "colab": {
          "base_uri": "https://localhost:8080/",
          "height": 363
        },
        "id": "OLib3F7nSy-X",
        "outputId": "b739d5bf-b7db-484e-b99f-8150fa4c6fbc"
      },
      "source": [
        "df2.head(10)"
      ],
      "execution_count": null,
      "outputs": [
        {
          "output_type": "execute_result",
          "data": {
            "text/html": [
              "<div>\n",
              "<style scoped>\n",
              "    .dataframe tbody tr th:only-of-type {\n",
              "        vertical-align: middle;\n",
              "    }\n",
              "\n",
              "    .dataframe tbody tr th {\n",
              "        vertical-align: top;\n",
              "    }\n",
              "\n",
              "    .dataframe thead th {\n",
              "        text-align: right;\n",
              "    }\n",
              "</style>\n",
              "<table border=\"1\" class=\"dataframe\">\n",
              "  <thead>\n",
              "    <tr style=\"text-align: right;\">\n",
              "      <th></th>\n",
              "      <th>age</th>\n",
              "      <th>job_type</th>\n",
              "      <th>marital_status</th>\n",
              "      <th>education_level</th>\n",
              "      <th>default_or_not</th>\n",
              "      <th>balance_amt</th>\n",
              "      <th>household_insurance</th>\n",
              "      <th>car_loan</th>\n",
              "      <th>communication</th>\n",
              "      <th>last_contact_day</th>\n",
              "      <th>last_contact_month</th>\n",
              "      <th>no_of_contacts</th>\n",
              "      <th>days_passed</th>\n",
              "      <th>prev_attempts</th>\n",
              "      <th>Outcome</th>\n",
              "      <th>call_start</th>\n",
              "      <th>call_end</th>\n",
              "    </tr>\n",
              "  </thead>\n",
              "  <tbody>\n",
              "    <tr>\n",
              "      <th>0</th>\n",
              "      <td>65.000000</td>\n",
              "      <td>retired</td>\n",
              "      <td>married</td>\n",
              "      <td>secondary</td>\n",
              "      <td>0</td>\n",
              "      <td>20806.000000</td>\n",
              "      <td>0</td>\n",
              "      <td>0</td>\n",
              "      <td>telephone</td>\n",
              "      <td>8</td>\n",
              "      <td>apr</td>\n",
              "      <td>2</td>\n",
              "      <td>-1</td>\n",
              "      <td>0</td>\n",
              "      <td>NaN</td>\n",
              "      <td>12:22:13</td>\n",
              "      <td>12:30:56</td>\n",
              "    </tr>\n",
              "    <tr>\n",
              "      <th>1</th>\n",
              "      <td>36.000000</td>\n",
              "      <td>management</td>\n",
              "      <td>married</td>\n",
              "      <td>tertiary</td>\n",
              "      <td>0</td>\n",
              "      <td>900.000000</td>\n",
              "      <td>1</td>\n",
              "      <td>0</td>\n",
              "      <td>NaN</td>\n",
              "      <td>15</td>\n",
              "      <td>may</td>\n",
              "      <td>2</td>\n",
              "      <td>-1</td>\n",
              "      <td>0</td>\n",
              "      <td>NaN</td>\n",
              "      <td>17:59:45</td>\n",
              "      <td>18:07:40</td>\n",
              "    </tr>\n",
              "    <tr>\n",
              "      <th>2</th>\n",
              "      <td>37.000000</td>\n",
              "      <td>management</td>\n",
              "      <td>married</td>\n",
              "      <td>tertiary</td>\n",
              "      <td>0</td>\n",
              "      <td>6771.000000</td>\n",
              "      <td>0</td>\n",
              "      <td>0</td>\n",
              "      <td>cellular</td>\n",
              "      <td>7</td>\n",
              "      <td>sep</td>\n",
              "      <td>1</td>\n",
              "      <td>186</td>\n",
              "      <td>1</td>\n",
              "      <td>success</td>\n",
              "      <td>14:05:19</td>\n",
              "      <td>14:10:56</td>\n",
              "    </tr>\n",
              "    <tr>\n",
              "      <th>3</th>\n",
              "      <td>30.065066</td>\n",
              "      <td>management</td>\n",
              "      <td>single</td>\n",
              "      <td>tertiary</td>\n",
              "      <td>0</td>\n",
              "      <td>0.000000</td>\n",
              "      <td>0</td>\n",
              "      <td>0</td>\n",
              "      <td>cellular</td>\n",
              "      <td>14</td>\n",
              "      <td>may</td>\n",
              "      <td>2</td>\n",
              "      <td>-1</td>\n",
              "      <td>0</td>\n",
              "      <td>NaN</td>\n",
              "      <td>17:33:27</td>\n",
              "      <td>09:47:54</td>\n",
              "    </tr>\n",
              "    <tr>\n",
              "      <th>4</th>\n",
              "      <td>41.000000</td>\n",
              "      <td>management</td>\n",
              "      <td>married</td>\n",
              "      <td>tertiary</td>\n",
              "      <td>0</td>\n",
              "      <td>328.000000</td>\n",
              "      <td>1</td>\n",
              "      <td>0</td>\n",
              "      <td>cellular</td>\n",
              "      <td>29</td>\n",
              "      <td>jul</td>\n",
              "      <td>12</td>\n",
              "      <td>-1</td>\n",
              "      <td>0</td>\n",
              "      <td>NaN</td>\n",
              "      <td>14:40:26</td>\n",
              "      <td>14:41:31</td>\n",
              "    </tr>\n",
              "    <tr>\n",
              "      <th>5</th>\n",
              "      <td>33.000000</td>\n",
              "      <td>management</td>\n",
              "      <td>single</td>\n",
              "      <td>tertiary</td>\n",
              "      <td>0</td>\n",
              "      <td>0.000000</td>\n",
              "      <td>0</td>\n",
              "      <td>0</td>\n",
              "      <td>cellular</td>\n",
              "      <td>28</td>\n",
              "      <td>aug</td>\n",
              "      <td>10</td>\n",
              "      <td>-1</td>\n",
              "      <td>0</td>\n",
              "      <td>NaN</td>\n",
              "      <td>13:47:37</td>\n",
              "      <td>13:51:33</td>\n",
              "    </tr>\n",
              "    <tr>\n",
              "      <th>6</th>\n",
              "      <td>46.000000</td>\n",
              "      <td>management</td>\n",
              "      <td>married</td>\n",
              "      <td>tertiary</td>\n",
              "      <td>0</td>\n",
              "      <td>7331.000000</td>\n",
              "      <td>0</td>\n",
              "      <td>0</td>\n",
              "      <td>cellular</td>\n",
              "      <td>11</td>\n",
              "      <td>sep</td>\n",
              "      <td>4</td>\n",
              "      <td>95</td>\n",
              "      <td>2</td>\n",
              "      <td>other</td>\n",
              "      <td>11:23:26</td>\n",
              "      <td>11:34:24</td>\n",
              "    </tr>\n",
              "    <tr>\n",
              "      <th>7</th>\n",
              "      <td>39.126336</td>\n",
              "      <td>admin.</td>\n",
              "      <td>married</td>\n",
              "      <td>secondary</td>\n",
              "      <td>0</td>\n",
              "      <td>891.034255</td>\n",
              "      <td>0</td>\n",
              "      <td>0</td>\n",
              "      <td>cellular</td>\n",
              "      <td>19</td>\n",
              "      <td>jun</td>\n",
              "      <td>2</td>\n",
              "      <td>-1</td>\n",
              "      <td>0</td>\n",
              "      <td>NaN</td>\n",
              "      <td>13:07:45</td>\n",
              "      <td>10:57:45</td>\n",
              "    </tr>\n",
              "    <tr>\n",
              "      <th>8</th>\n",
              "      <td>58.000000</td>\n",
              "      <td>retired</td>\n",
              "      <td>married</td>\n",
              "      <td>primary</td>\n",
              "      <td>0</td>\n",
              "      <td>565.000000</td>\n",
              "      <td>0</td>\n",
              "      <td>0</td>\n",
              "      <td>telephone</td>\n",
              "      <td>8</td>\n",
              "      <td>oct</td>\n",
              "      <td>1</td>\n",
              "      <td>93</td>\n",
              "      <td>1</td>\n",
              "      <td>success</td>\n",
              "      <td>15:27:52</td>\n",
              "      <td>15:30:25</td>\n",
              "    </tr>\n",
              "    <tr>\n",
              "      <th>9</th>\n",
              "      <td>48.000000</td>\n",
              "      <td>technician</td>\n",
              "      <td>married</td>\n",
              "      <td>secondary</td>\n",
              "      <td>0</td>\n",
              "      <td>10655.000000</td>\n",
              "      <td>0</td>\n",
              "      <td>0</td>\n",
              "      <td>telephone</td>\n",
              "      <td>31</td>\n",
              "      <td>jul</td>\n",
              "      <td>3</td>\n",
              "      <td>-1</td>\n",
              "      <td>0</td>\n",
              "      <td>NaN</td>\n",
              "      <td>10:11:43</td>\n",
              "      <td>10:11:48</td>\n",
              "    </tr>\n",
              "  </tbody>\n",
              "</table>\n",
              "</div>"
            ],
            "text/plain": [
              "         age    job_type marital_status  ...  Outcome  call_start  call_end\n",
              "0  65.000000     retired        married  ...      NaN    12:22:13  12:30:56\n",
              "1  36.000000  management        married  ...      NaN    17:59:45  18:07:40\n",
              "2  37.000000  management        married  ...  success    14:05:19  14:10:56\n",
              "3  30.065066  management         single  ...      NaN    17:33:27  09:47:54\n",
              "4  41.000000  management        married  ...      NaN    14:40:26  14:41:31\n",
              "5  33.000000  management         single  ...      NaN    13:47:37  13:51:33\n",
              "6  46.000000  management        married  ...    other    11:23:26  11:34:24\n",
              "7  39.126336      admin.        married  ...      NaN    13:07:45  10:57:45\n",
              "8  58.000000     retired        married  ...  success    15:27:52  15:30:25\n",
              "9  48.000000  technician        married  ...      NaN    10:11:43  10:11:48\n",
              "\n",
              "[10 rows x 17 columns]"
            ]
          },
          "metadata": {
            "tags": []
          },
          "execution_count": 682
        }
      ]
    },
    {
      "cell_type": "markdown",
      "metadata": {
        "id": "x7LxWeKrAXia"
      },
      "source": [
        "#Data  Cleaning and Preprocessing"
      ]
    },
    {
      "cell_type": "code",
      "metadata": {
        "id": "vkuQKCSuARbE"
      },
      "source": [
        "df[\"age\"] = df['age'].astype(int)\n",
        "df2[\"age\"] = df2['age'].astype(int) "
      ],
      "execution_count": null,
      "outputs": []
    },
    {
      "cell_type": "code",
      "metadata": {
        "id": "ZYJiS7AjeRMk"
      },
      "source": [
        "x = pd.to_datetime(df[\"call_start\"].values, format = \"%H:%M:%S\")\n",
        "y = pd.to_datetime(df[\"call_end\"].values, format = \"%H:%M:%S\")\n",
        "\n",
        "a = pd.to_datetime(df2[\"call_start\"].values, format = \"%H:%M:%S\")\n",
        "b = pd.to_datetime(df2[\"call_end\"].values, format = \"%H:%M:%S\")"
      ],
      "execution_count": null,
      "outputs": []
    },
    {
      "cell_type": "code",
      "metadata": {
        "colab": {
          "base_uri": "https://localhost:8080/"
        },
        "id": "UGXys8psoRv5",
        "outputId": "9d2a4132-74c7-40bb-ab90-22627e0e435b"
      },
      "source": [
        "df.dtypes"
      ],
      "execution_count": null,
      "outputs": [
        {
          "output_type": "execute_result",
          "data": {
            "text/plain": [
              "age                      int64\n",
              "job_type                object\n",
              "marital_status          object\n",
              "education_level         object\n",
              "default_or_not           int64\n",
              "balance_amt            float64\n",
              "household_insurance      int64\n",
              "car_loan                 int64\n",
              "communication           object\n",
              "last_contact_day         int64\n",
              "last_contact_month      object\n",
              "no_of_contacts           int64\n",
              "days_passed              int64\n",
              "prev_attempts            int64\n",
              "Outcome                 object\n",
              "call_start              object\n",
              "call_end                object\n",
              "car_insurance            int64\n",
              "dtype: object"
            ]
          },
          "metadata": {
            "tags": []
          },
          "execution_count": 685
        }
      ]
    },
    {
      "cell_type": "code",
      "metadata": {
        "colab": {
          "base_uri": "https://localhost:8080/"
        },
        "id": "DLzTO-_1TByI",
        "outputId": "a34eef18-4c72-436a-c56a-47dbc27478ef"
      },
      "source": [
        "df2.dtypes"
      ],
      "execution_count": null,
      "outputs": [
        {
          "output_type": "execute_result",
          "data": {
            "text/plain": [
              "age                      int64\n",
              "job_type                object\n",
              "marital_status          object\n",
              "education_level         object\n",
              "default_or_not           int64\n",
              "balance_amt            float64\n",
              "household_insurance      int64\n",
              "car_loan                 int64\n",
              "communication           object\n",
              "last_contact_day         int64\n",
              "last_contact_month      object\n",
              "no_of_contacts           int64\n",
              "days_passed              int64\n",
              "prev_attempts            int64\n",
              "Outcome                 object\n",
              "call_start              object\n",
              "call_end                object\n",
              "dtype: object"
            ]
          },
          "metadata": {
            "tags": []
          },
          "execution_count": 686
        }
      ]
    },
    {
      "cell_type": "code",
      "metadata": {
        "id": "hl_CciI4ECdP"
      },
      "source": [
        "df[\"call_time\"] = y - x\n",
        "df2[\"call_time\"] = b-a"
      ],
      "execution_count": null,
      "outputs": []
    },
    {
      "cell_type": "code",
      "metadata": {
        "colab": {
          "base_uri": "https://localhost:8080/",
          "height": 299
        },
        "id": "_aoPzvBFFA1a",
        "outputId": "7dba9649-83d0-419a-dd46-b9f39da6999a"
      },
      "source": [
        "df.head()"
      ],
      "execution_count": null,
      "outputs": [
        {
          "output_type": "execute_result",
          "data": {
            "text/html": [
              "<div>\n",
              "<style scoped>\n",
              "    .dataframe tbody tr th:only-of-type {\n",
              "        vertical-align: middle;\n",
              "    }\n",
              "\n",
              "    .dataframe tbody tr th {\n",
              "        vertical-align: top;\n",
              "    }\n",
              "\n",
              "    .dataframe thead th {\n",
              "        text-align: right;\n",
              "    }\n",
              "</style>\n",
              "<table border=\"1\" class=\"dataframe\">\n",
              "  <thead>\n",
              "    <tr style=\"text-align: right;\">\n",
              "      <th></th>\n",
              "      <th>age</th>\n",
              "      <th>job_type</th>\n",
              "      <th>marital_status</th>\n",
              "      <th>education_level</th>\n",
              "      <th>default_or_not</th>\n",
              "      <th>balance_amt</th>\n",
              "      <th>household_insurance</th>\n",
              "      <th>car_loan</th>\n",
              "      <th>communication</th>\n",
              "      <th>last_contact_day</th>\n",
              "      <th>last_contact_month</th>\n",
              "      <th>no_of_contacts</th>\n",
              "      <th>days_passed</th>\n",
              "      <th>prev_attempts</th>\n",
              "      <th>Outcome</th>\n",
              "      <th>call_start</th>\n",
              "      <th>call_end</th>\n",
              "      <th>car_insurance</th>\n",
              "      <th>call_time</th>\n",
              "    </tr>\n",
              "  </thead>\n",
              "  <tbody>\n",
              "    <tr>\n",
              "      <th>0</th>\n",
              "      <td>47</td>\n",
              "      <td>blue-collar</td>\n",
              "      <td>married</td>\n",
              "      <td>primary</td>\n",
              "      <td>0</td>\n",
              "      <td>1112.000000</td>\n",
              "      <td>1</td>\n",
              "      <td>0</td>\n",
              "      <td>cellular</td>\n",
              "      <td>13</td>\n",
              "      <td>may</td>\n",
              "      <td>1</td>\n",
              "      <td>-1</td>\n",
              "      <td>0</td>\n",
              "      <td>NaN</td>\n",
              "      <td>10:22:20</td>\n",
              "      <td>10:24:29</td>\n",
              "      <td>0</td>\n",
              "      <td>0 days 00:02:09</td>\n",
              "    </tr>\n",
              "    <tr>\n",
              "      <th>1</th>\n",
              "      <td>46</td>\n",
              "      <td>management</td>\n",
              "      <td>married</td>\n",
              "      <td>tertiary</td>\n",
              "      <td>0</td>\n",
              "      <td>1.312372</td>\n",
              "      <td>0</td>\n",
              "      <td>1</td>\n",
              "      <td>cellular</td>\n",
              "      <td>15</td>\n",
              "      <td>may</td>\n",
              "      <td>3</td>\n",
              "      <td>219</td>\n",
              "      <td>1</td>\n",
              "      <td>other</td>\n",
              "      <td>09:06:30</td>\n",
              "      <td>13:59:48</td>\n",
              "      <td>1</td>\n",
              "      <td>0 days 04:53:18</td>\n",
              "    </tr>\n",
              "    <tr>\n",
              "      <th>2</th>\n",
              "      <td>36</td>\n",
              "      <td>services</td>\n",
              "      <td>single</td>\n",
              "      <td>NaN</td>\n",
              "      <td>0</td>\n",
              "      <td>281.000000</td>\n",
              "      <td>1</td>\n",
              "      <td>0</td>\n",
              "      <td>NaN</td>\n",
              "      <td>16</td>\n",
              "      <td>may</td>\n",
              "      <td>1</td>\n",
              "      <td>-1</td>\n",
              "      <td>0</td>\n",
              "      <td>NaN</td>\n",
              "      <td>13:18:41</td>\n",
              "      <td>13:27:16</td>\n",
              "      <td>1</td>\n",
              "      <td>0 days 00:08:35</td>\n",
              "    </tr>\n",
              "    <tr>\n",
              "      <th>3</th>\n",
              "      <td>32</td>\n",
              "      <td>technician</td>\n",
              "      <td>single</td>\n",
              "      <td>secondary</td>\n",
              "      <td>0</td>\n",
              "      <td>540.000000</td>\n",
              "      <td>0</td>\n",
              "      <td>1</td>\n",
              "      <td>cellular</td>\n",
              "      <td>29</td>\n",
              "      <td>jan</td>\n",
              "      <td>1</td>\n",
              "      <td>-1</td>\n",
              "      <td>0</td>\n",
              "      <td>NaN</td>\n",
              "      <td>10:09:18</td>\n",
              "      <td>10:21:48</td>\n",
              "      <td>1</td>\n",
              "      <td>0 days 00:12:30</td>\n",
              "    </tr>\n",
              "    <tr>\n",
              "      <th>4</th>\n",
              "      <td>30</td>\n",
              "      <td>admin.</td>\n",
              "      <td>single</td>\n",
              "      <td>secondary</td>\n",
              "      <td>0</td>\n",
              "      <td>315.000000</td>\n",
              "      <td>1</td>\n",
              "      <td>0</td>\n",
              "      <td>cellular</td>\n",
              "      <td>14</td>\n",
              "      <td>may</td>\n",
              "      <td>3</td>\n",
              "      <td>346</td>\n",
              "      <td>4</td>\n",
              "      <td>failure</td>\n",
              "      <td>12:12:30</td>\n",
              "      <td>12:27:14</td>\n",
              "      <td>1</td>\n",
              "      <td>0 days 00:14:44</td>\n",
              "    </tr>\n",
              "  </tbody>\n",
              "</table>\n",
              "</div>"
            ],
            "text/plain": [
              "   age     job_type marital_status  ...  call_end  car_insurance       call_time\n",
              "0   47  blue-collar        married  ...  10:24:29              0 0 days 00:02:09\n",
              "1   46   management        married  ...  13:59:48              1 0 days 04:53:18\n",
              "2   36     services         single  ...  13:27:16              1 0 days 00:08:35\n",
              "3   32   technician         single  ...  10:21:48              1 0 days 00:12:30\n",
              "4   30       admin.         single  ...  12:27:14              1 0 days 00:14:44\n",
              "\n",
              "[5 rows x 19 columns]"
            ]
          },
          "metadata": {
            "tags": []
          },
          "execution_count": 688
        }
      ]
    },
    {
      "cell_type": "code",
      "metadata": {
        "colab": {
          "base_uri": "https://localhost:8080/",
          "height": 299
        },
        "id": "KAekA2wWTPAm",
        "outputId": "c8269fb9-178b-4c2e-9c6f-1c3565ada734"
      },
      "source": [
        "df2.head()"
      ],
      "execution_count": null,
      "outputs": [
        {
          "output_type": "execute_result",
          "data": {
            "text/html": [
              "<div>\n",
              "<style scoped>\n",
              "    .dataframe tbody tr th:only-of-type {\n",
              "        vertical-align: middle;\n",
              "    }\n",
              "\n",
              "    .dataframe tbody tr th {\n",
              "        vertical-align: top;\n",
              "    }\n",
              "\n",
              "    .dataframe thead th {\n",
              "        text-align: right;\n",
              "    }\n",
              "</style>\n",
              "<table border=\"1\" class=\"dataframe\">\n",
              "  <thead>\n",
              "    <tr style=\"text-align: right;\">\n",
              "      <th></th>\n",
              "      <th>age</th>\n",
              "      <th>job_type</th>\n",
              "      <th>marital_status</th>\n",
              "      <th>education_level</th>\n",
              "      <th>default_or_not</th>\n",
              "      <th>balance_amt</th>\n",
              "      <th>household_insurance</th>\n",
              "      <th>car_loan</th>\n",
              "      <th>communication</th>\n",
              "      <th>last_contact_day</th>\n",
              "      <th>last_contact_month</th>\n",
              "      <th>no_of_contacts</th>\n",
              "      <th>days_passed</th>\n",
              "      <th>prev_attempts</th>\n",
              "      <th>Outcome</th>\n",
              "      <th>call_start</th>\n",
              "      <th>call_end</th>\n",
              "      <th>call_time</th>\n",
              "    </tr>\n",
              "  </thead>\n",
              "  <tbody>\n",
              "    <tr>\n",
              "      <th>0</th>\n",
              "      <td>65</td>\n",
              "      <td>retired</td>\n",
              "      <td>married</td>\n",
              "      <td>secondary</td>\n",
              "      <td>0</td>\n",
              "      <td>20806.0</td>\n",
              "      <td>0</td>\n",
              "      <td>0</td>\n",
              "      <td>telephone</td>\n",
              "      <td>8</td>\n",
              "      <td>apr</td>\n",
              "      <td>2</td>\n",
              "      <td>-1</td>\n",
              "      <td>0</td>\n",
              "      <td>NaN</td>\n",
              "      <td>12:22:13</td>\n",
              "      <td>12:30:56</td>\n",
              "      <td>0 days 00:08:43</td>\n",
              "    </tr>\n",
              "    <tr>\n",
              "      <th>1</th>\n",
              "      <td>36</td>\n",
              "      <td>management</td>\n",
              "      <td>married</td>\n",
              "      <td>tertiary</td>\n",
              "      <td>0</td>\n",
              "      <td>900.0</td>\n",
              "      <td>1</td>\n",
              "      <td>0</td>\n",
              "      <td>NaN</td>\n",
              "      <td>15</td>\n",
              "      <td>may</td>\n",
              "      <td>2</td>\n",
              "      <td>-1</td>\n",
              "      <td>0</td>\n",
              "      <td>NaN</td>\n",
              "      <td>17:59:45</td>\n",
              "      <td>18:07:40</td>\n",
              "      <td>0 days 00:07:55</td>\n",
              "    </tr>\n",
              "    <tr>\n",
              "      <th>2</th>\n",
              "      <td>37</td>\n",
              "      <td>management</td>\n",
              "      <td>married</td>\n",
              "      <td>tertiary</td>\n",
              "      <td>0</td>\n",
              "      <td>6771.0</td>\n",
              "      <td>0</td>\n",
              "      <td>0</td>\n",
              "      <td>cellular</td>\n",
              "      <td>7</td>\n",
              "      <td>sep</td>\n",
              "      <td>1</td>\n",
              "      <td>186</td>\n",
              "      <td>1</td>\n",
              "      <td>success</td>\n",
              "      <td>14:05:19</td>\n",
              "      <td>14:10:56</td>\n",
              "      <td>0 days 00:05:37</td>\n",
              "    </tr>\n",
              "    <tr>\n",
              "      <th>3</th>\n",
              "      <td>30</td>\n",
              "      <td>management</td>\n",
              "      <td>single</td>\n",
              "      <td>tertiary</td>\n",
              "      <td>0</td>\n",
              "      <td>0.0</td>\n",
              "      <td>0</td>\n",
              "      <td>0</td>\n",
              "      <td>cellular</td>\n",
              "      <td>14</td>\n",
              "      <td>may</td>\n",
              "      <td>2</td>\n",
              "      <td>-1</td>\n",
              "      <td>0</td>\n",
              "      <td>NaN</td>\n",
              "      <td>17:33:27</td>\n",
              "      <td>09:47:54</td>\n",
              "      <td>-1 days +16:14:27</td>\n",
              "    </tr>\n",
              "    <tr>\n",
              "      <th>4</th>\n",
              "      <td>41</td>\n",
              "      <td>management</td>\n",
              "      <td>married</td>\n",
              "      <td>tertiary</td>\n",
              "      <td>0</td>\n",
              "      <td>328.0</td>\n",
              "      <td>1</td>\n",
              "      <td>0</td>\n",
              "      <td>cellular</td>\n",
              "      <td>29</td>\n",
              "      <td>jul</td>\n",
              "      <td>12</td>\n",
              "      <td>-1</td>\n",
              "      <td>0</td>\n",
              "      <td>NaN</td>\n",
              "      <td>14:40:26</td>\n",
              "      <td>14:41:31</td>\n",
              "      <td>0 days 00:01:05</td>\n",
              "    </tr>\n",
              "  </tbody>\n",
              "</table>\n",
              "</div>"
            ],
            "text/plain": [
              "   age    job_type marital_status  ... call_start  call_end         call_time\n",
              "0   65     retired        married  ...   12:22:13  12:30:56   0 days 00:08:43\n",
              "1   36  management        married  ...   17:59:45  18:07:40   0 days 00:07:55\n",
              "2   37  management        married  ...   14:05:19  14:10:56   0 days 00:05:37\n",
              "3   30  management         single  ...   17:33:27  09:47:54 -1 days +16:14:27\n",
              "4   41  management        married  ...   14:40:26  14:41:31   0 days 00:01:05\n",
              "\n",
              "[5 rows x 18 columns]"
            ]
          },
          "metadata": {
            "tags": []
          },
          "execution_count": 689
        }
      ]
    },
    {
      "cell_type": "code",
      "metadata": {
        "id": "s2IpglLbR0NO"
      },
      "source": [
        "df[\"call_time\"] = df[\"call_time\"].astype(int) // 10 ** 9\n",
        "df2[\"call_time\"] = df2[\"call_time\"].astype(int) // 10 ** 9"
      ],
      "execution_count": null,
      "outputs": []
    },
    {
      "cell_type": "code",
      "metadata": {
        "colab": {
          "base_uri": "https://localhost:8080/"
        },
        "id": "1sTLdg4xOoOu",
        "outputId": "e147147d-462d-4f92-a9b0-fbad4c976a81"
      },
      "source": [
        "df.dtypes"
      ],
      "execution_count": null,
      "outputs": [
        {
          "output_type": "execute_result",
          "data": {
            "text/plain": [
              "age                      int64\n",
              "job_type                object\n",
              "marital_status          object\n",
              "education_level         object\n",
              "default_or_not           int64\n",
              "balance_amt            float64\n",
              "household_insurance      int64\n",
              "car_loan                 int64\n",
              "communication           object\n",
              "last_contact_day         int64\n",
              "last_contact_month      object\n",
              "no_of_contacts           int64\n",
              "days_passed              int64\n",
              "prev_attempts            int64\n",
              "Outcome                 object\n",
              "call_start              object\n",
              "call_end                object\n",
              "car_insurance            int64\n",
              "call_time                int64\n",
              "dtype: object"
            ]
          },
          "metadata": {
            "tags": []
          },
          "execution_count": 691
        }
      ]
    },
    {
      "cell_type": "code",
      "metadata": {
        "colab": {
          "base_uri": "https://localhost:8080/"
        },
        "id": "Sv6AmI06Taq4",
        "outputId": "244510c7-7669-49b6-dc45-d011b044f156"
      },
      "source": [
        "df2.dtypes"
      ],
      "execution_count": null,
      "outputs": [
        {
          "output_type": "execute_result",
          "data": {
            "text/plain": [
              "age                      int64\n",
              "job_type                object\n",
              "marital_status          object\n",
              "education_level         object\n",
              "default_or_not           int64\n",
              "balance_amt            float64\n",
              "household_insurance      int64\n",
              "car_loan                 int64\n",
              "communication           object\n",
              "last_contact_day         int64\n",
              "last_contact_month      object\n",
              "no_of_contacts           int64\n",
              "days_passed              int64\n",
              "prev_attempts            int64\n",
              "Outcome                 object\n",
              "call_start              object\n",
              "call_end                object\n",
              "call_time                int64\n",
              "dtype: object"
            ]
          },
          "metadata": {
            "tags": []
          },
          "execution_count": 692
        }
      ]
    },
    {
      "cell_type": "code",
      "metadata": {
        "colab": {
          "base_uri": "https://localhost:8080/",
          "height": 215
        },
        "id": "GMx90H3qSEtB",
        "outputId": "69051762-af72-45df-bd0d-e8e0a62e7d2a"
      },
      "source": [
        "df.head()"
      ],
      "execution_count": null,
      "outputs": [
        {
          "output_type": "execute_result",
          "data": {
            "text/html": [
              "<div>\n",
              "<style scoped>\n",
              "    .dataframe tbody tr th:only-of-type {\n",
              "        vertical-align: middle;\n",
              "    }\n",
              "\n",
              "    .dataframe tbody tr th {\n",
              "        vertical-align: top;\n",
              "    }\n",
              "\n",
              "    .dataframe thead th {\n",
              "        text-align: right;\n",
              "    }\n",
              "</style>\n",
              "<table border=\"1\" class=\"dataframe\">\n",
              "  <thead>\n",
              "    <tr style=\"text-align: right;\">\n",
              "      <th></th>\n",
              "      <th>age</th>\n",
              "      <th>job_type</th>\n",
              "      <th>marital_status</th>\n",
              "      <th>education_level</th>\n",
              "      <th>default_or_not</th>\n",
              "      <th>balance_amt</th>\n",
              "      <th>household_insurance</th>\n",
              "      <th>car_loan</th>\n",
              "      <th>communication</th>\n",
              "      <th>last_contact_day</th>\n",
              "      <th>last_contact_month</th>\n",
              "      <th>no_of_contacts</th>\n",
              "      <th>days_passed</th>\n",
              "      <th>prev_attempts</th>\n",
              "      <th>Outcome</th>\n",
              "      <th>call_start</th>\n",
              "      <th>call_end</th>\n",
              "      <th>car_insurance</th>\n",
              "      <th>call_time</th>\n",
              "    </tr>\n",
              "  </thead>\n",
              "  <tbody>\n",
              "    <tr>\n",
              "      <th>0</th>\n",
              "      <td>47</td>\n",
              "      <td>blue-collar</td>\n",
              "      <td>married</td>\n",
              "      <td>primary</td>\n",
              "      <td>0</td>\n",
              "      <td>1112.000000</td>\n",
              "      <td>1</td>\n",
              "      <td>0</td>\n",
              "      <td>cellular</td>\n",
              "      <td>13</td>\n",
              "      <td>may</td>\n",
              "      <td>1</td>\n",
              "      <td>-1</td>\n",
              "      <td>0</td>\n",
              "      <td>NaN</td>\n",
              "      <td>10:22:20</td>\n",
              "      <td>10:24:29</td>\n",
              "      <td>0</td>\n",
              "      <td>129</td>\n",
              "    </tr>\n",
              "    <tr>\n",
              "      <th>1</th>\n",
              "      <td>46</td>\n",
              "      <td>management</td>\n",
              "      <td>married</td>\n",
              "      <td>tertiary</td>\n",
              "      <td>0</td>\n",
              "      <td>1.312372</td>\n",
              "      <td>0</td>\n",
              "      <td>1</td>\n",
              "      <td>cellular</td>\n",
              "      <td>15</td>\n",
              "      <td>may</td>\n",
              "      <td>3</td>\n",
              "      <td>219</td>\n",
              "      <td>1</td>\n",
              "      <td>other</td>\n",
              "      <td>09:06:30</td>\n",
              "      <td>13:59:48</td>\n",
              "      <td>1</td>\n",
              "      <td>17598</td>\n",
              "    </tr>\n",
              "    <tr>\n",
              "      <th>2</th>\n",
              "      <td>36</td>\n",
              "      <td>services</td>\n",
              "      <td>single</td>\n",
              "      <td>NaN</td>\n",
              "      <td>0</td>\n",
              "      <td>281.000000</td>\n",
              "      <td>1</td>\n",
              "      <td>0</td>\n",
              "      <td>NaN</td>\n",
              "      <td>16</td>\n",
              "      <td>may</td>\n",
              "      <td>1</td>\n",
              "      <td>-1</td>\n",
              "      <td>0</td>\n",
              "      <td>NaN</td>\n",
              "      <td>13:18:41</td>\n",
              "      <td>13:27:16</td>\n",
              "      <td>1</td>\n",
              "      <td>515</td>\n",
              "    </tr>\n",
              "    <tr>\n",
              "      <th>3</th>\n",
              "      <td>32</td>\n",
              "      <td>technician</td>\n",
              "      <td>single</td>\n",
              "      <td>secondary</td>\n",
              "      <td>0</td>\n",
              "      <td>540.000000</td>\n",
              "      <td>0</td>\n",
              "      <td>1</td>\n",
              "      <td>cellular</td>\n",
              "      <td>29</td>\n",
              "      <td>jan</td>\n",
              "      <td>1</td>\n",
              "      <td>-1</td>\n",
              "      <td>0</td>\n",
              "      <td>NaN</td>\n",
              "      <td>10:09:18</td>\n",
              "      <td>10:21:48</td>\n",
              "      <td>1</td>\n",
              "      <td>750</td>\n",
              "    </tr>\n",
              "    <tr>\n",
              "      <th>4</th>\n",
              "      <td>30</td>\n",
              "      <td>admin.</td>\n",
              "      <td>single</td>\n",
              "      <td>secondary</td>\n",
              "      <td>0</td>\n",
              "      <td>315.000000</td>\n",
              "      <td>1</td>\n",
              "      <td>0</td>\n",
              "      <td>cellular</td>\n",
              "      <td>14</td>\n",
              "      <td>may</td>\n",
              "      <td>3</td>\n",
              "      <td>346</td>\n",
              "      <td>4</td>\n",
              "      <td>failure</td>\n",
              "      <td>12:12:30</td>\n",
              "      <td>12:27:14</td>\n",
              "      <td>1</td>\n",
              "      <td>884</td>\n",
              "    </tr>\n",
              "  </tbody>\n",
              "</table>\n",
              "</div>"
            ],
            "text/plain": [
              "   age     job_type marital_status  ...  call_end  car_insurance  call_time\n",
              "0   47  blue-collar        married  ...  10:24:29              0        129\n",
              "1   46   management        married  ...  13:59:48              1      17598\n",
              "2   36     services         single  ...  13:27:16              1        515\n",
              "3   32   technician         single  ...  10:21:48              1        750\n",
              "4   30       admin.         single  ...  12:27:14              1        884\n",
              "\n",
              "[5 rows x 19 columns]"
            ]
          },
          "metadata": {
            "tags": []
          },
          "execution_count": 693
        }
      ]
    },
    {
      "cell_type": "code",
      "metadata": {
        "colab": {
          "base_uri": "https://localhost:8080/"
        },
        "id": "1xhZbaADw3BL",
        "outputId": "f490eb21-d467-4ae8-d0a4-dda88848f6f1"
      },
      "source": [
        "df_miss_val = df.isnull().sum()\n",
        "(df_miss_val[df_miss_val > 0]/df.shape[0]) * 100"
      ],
      "execution_count": null,
      "outputs": [
        {
          "output_type": "execute_result",
          "data": {
            "text/plain": [
              "job_type            0.354610\n",
              "education_level     3.642811\n",
              "communication      17.504836\n",
              "Outcome            75.789813\n",
              "dtype: float64"
            ]
          },
          "metadata": {
            "tags": []
          },
          "execution_count": 694
        }
      ]
    },
    {
      "cell_type": "code",
      "metadata": {
        "colab": {
          "base_uri": "https://localhost:8080/"
        },
        "id": "0ghCCDnETfcf",
        "outputId": "f732f171-2f85-4274-ea78-df114bf7f8af"
      },
      "source": [
        "#Percentage of missing values\n",
        "df2_miss_val = df2.isnull().sum()\n",
        "(df2_miss_val[df2_miss_val > 0]/df2.shape[0]) * 100"
      ],
      "execution_count": null,
      "outputs": [
        {
          "output_type": "execute_result",
          "data": {
            "text/plain": [
              "job_type            0.534759\n",
              "education_level     3.636364\n",
              "communication      17.647059\n",
              "Outcome            74.331551\n",
              "dtype: float64"
            ]
          },
          "metadata": {
            "tags": []
          },
          "execution_count": 695
        }
      ]
    },
    {
      "cell_type": "code",
      "metadata": {
        "id": "zz-rsIc3lvM5"
      },
      "source": [
        "df.replace({\"last_contact_month\": {\"jan\" : \"1\", \"feb\": \"2\", \"mar\": \"3\", \"apr\": \"4\", \"may\": \"5\", \"jun\": \"6\", \"jul\": \"7\", \"aug\": \"8\", \"sep\": \"9\", \"oct\":\"10\", \"nov\": \"11\", \"dec\":\"12\"}}, inplace = True)\n",
        "df2.replace({\"last_contact_month\": {\"jan\" : \"1\", \"feb\": \"2\", \"mar\": \"3\", \"apr\": \"4\", \"may\": \"5\", \"jun\": \"6\", \"jul\": \"7\", \"aug\": \"8\", \"sep\": \"9\", \"oct\":\"10\", \"nov\": \"11\", \"dec\":\"12\"}}, inplace = True)"
      ],
      "execution_count": null,
      "outputs": []
    },
    {
      "cell_type": "code",
      "metadata": {
        "id": "MvoVkZIthiuq"
      },
      "source": [
        "df[\"date\"] = df[\"last_contact_day\"].astype(str) + \"/\" + df[\"last_contact_month\"] + \"/2019\"\n",
        "df2[\"date\"] = df2[\"last_contact_day\"].astype(str) + \"/\" + df2[\"last_contact_month\"] + \"/2019\""
      ],
      "execution_count": null,
      "outputs": []
    },
    {
      "cell_type": "code",
      "metadata": {
        "colab": {
          "base_uri": "https://localhost:8080/",
          "height": 215
        },
        "id": "8Uwg769chzUS",
        "outputId": "7b81452d-6d74-4e2e-fba5-ed16aa37cfc8"
      },
      "source": [
        "df.head()"
      ],
      "execution_count": null,
      "outputs": [
        {
          "output_type": "execute_result",
          "data": {
            "text/html": [
              "<div>\n",
              "<style scoped>\n",
              "    .dataframe tbody tr th:only-of-type {\n",
              "        vertical-align: middle;\n",
              "    }\n",
              "\n",
              "    .dataframe tbody tr th {\n",
              "        vertical-align: top;\n",
              "    }\n",
              "\n",
              "    .dataframe thead th {\n",
              "        text-align: right;\n",
              "    }\n",
              "</style>\n",
              "<table border=\"1\" class=\"dataframe\">\n",
              "  <thead>\n",
              "    <tr style=\"text-align: right;\">\n",
              "      <th></th>\n",
              "      <th>age</th>\n",
              "      <th>job_type</th>\n",
              "      <th>marital_status</th>\n",
              "      <th>education_level</th>\n",
              "      <th>default_or_not</th>\n",
              "      <th>balance_amt</th>\n",
              "      <th>household_insurance</th>\n",
              "      <th>car_loan</th>\n",
              "      <th>communication</th>\n",
              "      <th>last_contact_day</th>\n",
              "      <th>last_contact_month</th>\n",
              "      <th>no_of_contacts</th>\n",
              "      <th>days_passed</th>\n",
              "      <th>prev_attempts</th>\n",
              "      <th>Outcome</th>\n",
              "      <th>call_start</th>\n",
              "      <th>call_end</th>\n",
              "      <th>car_insurance</th>\n",
              "      <th>call_time</th>\n",
              "      <th>date</th>\n",
              "    </tr>\n",
              "  </thead>\n",
              "  <tbody>\n",
              "    <tr>\n",
              "      <th>0</th>\n",
              "      <td>47</td>\n",
              "      <td>blue-collar</td>\n",
              "      <td>married</td>\n",
              "      <td>primary</td>\n",
              "      <td>0</td>\n",
              "      <td>1112.000000</td>\n",
              "      <td>1</td>\n",
              "      <td>0</td>\n",
              "      <td>cellular</td>\n",
              "      <td>13</td>\n",
              "      <td>5</td>\n",
              "      <td>1</td>\n",
              "      <td>-1</td>\n",
              "      <td>0</td>\n",
              "      <td>NaN</td>\n",
              "      <td>10:22:20</td>\n",
              "      <td>10:24:29</td>\n",
              "      <td>0</td>\n",
              "      <td>129</td>\n",
              "      <td>13/5/2019</td>\n",
              "    </tr>\n",
              "    <tr>\n",
              "      <th>1</th>\n",
              "      <td>46</td>\n",
              "      <td>management</td>\n",
              "      <td>married</td>\n",
              "      <td>tertiary</td>\n",
              "      <td>0</td>\n",
              "      <td>1.312372</td>\n",
              "      <td>0</td>\n",
              "      <td>1</td>\n",
              "      <td>cellular</td>\n",
              "      <td>15</td>\n",
              "      <td>5</td>\n",
              "      <td>3</td>\n",
              "      <td>219</td>\n",
              "      <td>1</td>\n",
              "      <td>other</td>\n",
              "      <td>09:06:30</td>\n",
              "      <td>13:59:48</td>\n",
              "      <td>1</td>\n",
              "      <td>17598</td>\n",
              "      <td>15/5/2019</td>\n",
              "    </tr>\n",
              "    <tr>\n",
              "      <th>2</th>\n",
              "      <td>36</td>\n",
              "      <td>services</td>\n",
              "      <td>single</td>\n",
              "      <td>NaN</td>\n",
              "      <td>0</td>\n",
              "      <td>281.000000</td>\n",
              "      <td>1</td>\n",
              "      <td>0</td>\n",
              "      <td>NaN</td>\n",
              "      <td>16</td>\n",
              "      <td>5</td>\n",
              "      <td>1</td>\n",
              "      <td>-1</td>\n",
              "      <td>0</td>\n",
              "      <td>NaN</td>\n",
              "      <td>13:18:41</td>\n",
              "      <td>13:27:16</td>\n",
              "      <td>1</td>\n",
              "      <td>515</td>\n",
              "      <td>16/5/2019</td>\n",
              "    </tr>\n",
              "    <tr>\n",
              "      <th>3</th>\n",
              "      <td>32</td>\n",
              "      <td>technician</td>\n",
              "      <td>single</td>\n",
              "      <td>secondary</td>\n",
              "      <td>0</td>\n",
              "      <td>540.000000</td>\n",
              "      <td>0</td>\n",
              "      <td>1</td>\n",
              "      <td>cellular</td>\n",
              "      <td>29</td>\n",
              "      <td>1</td>\n",
              "      <td>1</td>\n",
              "      <td>-1</td>\n",
              "      <td>0</td>\n",
              "      <td>NaN</td>\n",
              "      <td>10:09:18</td>\n",
              "      <td>10:21:48</td>\n",
              "      <td>1</td>\n",
              "      <td>750</td>\n",
              "      <td>29/1/2019</td>\n",
              "    </tr>\n",
              "    <tr>\n",
              "      <th>4</th>\n",
              "      <td>30</td>\n",
              "      <td>admin.</td>\n",
              "      <td>single</td>\n",
              "      <td>secondary</td>\n",
              "      <td>0</td>\n",
              "      <td>315.000000</td>\n",
              "      <td>1</td>\n",
              "      <td>0</td>\n",
              "      <td>cellular</td>\n",
              "      <td>14</td>\n",
              "      <td>5</td>\n",
              "      <td>3</td>\n",
              "      <td>346</td>\n",
              "      <td>4</td>\n",
              "      <td>failure</td>\n",
              "      <td>12:12:30</td>\n",
              "      <td>12:27:14</td>\n",
              "      <td>1</td>\n",
              "      <td>884</td>\n",
              "      <td>14/5/2019</td>\n",
              "    </tr>\n",
              "  </tbody>\n",
              "</table>\n",
              "</div>"
            ],
            "text/plain": [
              "   age     job_type marital_status  ... car_insurance  call_time       date\n",
              "0   47  blue-collar        married  ...             0        129  13/5/2019\n",
              "1   46   management        married  ...             1      17598  15/5/2019\n",
              "2   36     services         single  ...             1        515  16/5/2019\n",
              "3   32   technician         single  ...             1        750  29/1/2019\n",
              "4   30       admin.         single  ...             1        884  14/5/2019\n",
              "\n",
              "[5 rows x 20 columns]"
            ]
          },
          "metadata": {
            "tags": []
          },
          "execution_count": 698
        }
      ]
    },
    {
      "cell_type": "code",
      "metadata": {
        "colab": {
          "base_uri": "https://localhost:8080/",
          "height": 215
        },
        "id": "qBpjr48oTv57",
        "outputId": "1e619a04-f93e-4044-9771-a287685f776f"
      },
      "source": [
        "df2.head()"
      ],
      "execution_count": null,
      "outputs": [
        {
          "output_type": "execute_result",
          "data": {
            "text/html": [
              "<div>\n",
              "<style scoped>\n",
              "    .dataframe tbody tr th:only-of-type {\n",
              "        vertical-align: middle;\n",
              "    }\n",
              "\n",
              "    .dataframe tbody tr th {\n",
              "        vertical-align: top;\n",
              "    }\n",
              "\n",
              "    .dataframe thead th {\n",
              "        text-align: right;\n",
              "    }\n",
              "</style>\n",
              "<table border=\"1\" class=\"dataframe\">\n",
              "  <thead>\n",
              "    <tr style=\"text-align: right;\">\n",
              "      <th></th>\n",
              "      <th>age</th>\n",
              "      <th>job_type</th>\n",
              "      <th>marital_status</th>\n",
              "      <th>education_level</th>\n",
              "      <th>default_or_not</th>\n",
              "      <th>balance_amt</th>\n",
              "      <th>household_insurance</th>\n",
              "      <th>car_loan</th>\n",
              "      <th>communication</th>\n",
              "      <th>last_contact_day</th>\n",
              "      <th>last_contact_month</th>\n",
              "      <th>no_of_contacts</th>\n",
              "      <th>days_passed</th>\n",
              "      <th>prev_attempts</th>\n",
              "      <th>Outcome</th>\n",
              "      <th>call_start</th>\n",
              "      <th>call_end</th>\n",
              "      <th>call_time</th>\n",
              "      <th>date</th>\n",
              "    </tr>\n",
              "  </thead>\n",
              "  <tbody>\n",
              "    <tr>\n",
              "      <th>0</th>\n",
              "      <td>65</td>\n",
              "      <td>retired</td>\n",
              "      <td>married</td>\n",
              "      <td>secondary</td>\n",
              "      <td>0</td>\n",
              "      <td>20806.0</td>\n",
              "      <td>0</td>\n",
              "      <td>0</td>\n",
              "      <td>telephone</td>\n",
              "      <td>8</td>\n",
              "      <td>4</td>\n",
              "      <td>2</td>\n",
              "      <td>-1</td>\n",
              "      <td>0</td>\n",
              "      <td>NaN</td>\n",
              "      <td>12:22:13</td>\n",
              "      <td>12:30:56</td>\n",
              "      <td>523</td>\n",
              "      <td>8/4/2019</td>\n",
              "    </tr>\n",
              "    <tr>\n",
              "      <th>1</th>\n",
              "      <td>36</td>\n",
              "      <td>management</td>\n",
              "      <td>married</td>\n",
              "      <td>tertiary</td>\n",
              "      <td>0</td>\n",
              "      <td>900.0</td>\n",
              "      <td>1</td>\n",
              "      <td>0</td>\n",
              "      <td>NaN</td>\n",
              "      <td>15</td>\n",
              "      <td>5</td>\n",
              "      <td>2</td>\n",
              "      <td>-1</td>\n",
              "      <td>0</td>\n",
              "      <td>NaN</td>\n",
              "      <td>17:59:45</td>\n",
              "      <td>18:07:40</td>\n",
              "      <td>475</td>\n",
              "      <td>15/5/2019</td>\n",
              "    </tr>\n",
              "    <tr>\n",
              "      <th>2</th>\n",
              "      <td>37</td>\n",
              "      <td>management</td>\n",
              "      <td>married</td>\n",
              "      <td>tertiary</td>\n",
              "      <td>0</td>\n",
              "      <td>6771.0</td>\n",
              "      <td>0</td>\n",
              "      <td>0</td>\n",
              "      <td>cellular</td>\n",
              "      <td>7</td>\n",
              "      <td>9</td>\n",
              "      <td>1</td>\n",
              "      <td>186</td>\n",
              "      <td>1</td>\n",
              "      <td>success</td>\n",
              "      <td>14:05:19</td>\n",
              "      <td>14:10:56</td>\n",
              "      <td>337</td>\n",
              "      <td>7/9/2019</td>\n",
              "    </tr>\n",
              "    <tr>\n",
              "      <th>3</th>\n",
              "      <td>30</td>\n",
              "      <td>management</td>\n",
              "      <td>single</td>\n",
              "      <td>tertiary</td>\n",
              "      <td>0</td>\n",
              "      <td>0.0</td>\n",
              "      <td>0</td>\n",
              "      <td>0</td>\n",
              "      <td>cellular</td>\n",
              "      <td>14</td>\n",
              "      <td>5</td>\n",
              "      <td>2</td>\n",
              "      <td>-1</td>\n",
              "      <td>0</td>\n",
              "      <td>NaN</td>\n",
              "      <td>17:33:27</td>\n",
              "      <td>09:47:54</td>\n",
              "      <td>-27933</td>\n",
              "      <td>14/5/2019</td>\n",
              "    </tr>\n",
              "    <tr>\n",
              "      <th>4</th>\n",
              "      <td>41</td>\n",
              "      <td>management</td>\n",
              "      <td>married</td>\n",
              "      <td>tertiary</td>\n",
              "      <td>0</td>\n",
              "      <td>328.0</td>\n",
              "      <td>1</td>\n",
              "      <td>0</td>\n",
              "      <td>cellular</td>\n",
              "      <td>29</td>\n",
              "      <td>7</td>\n",
              "      <td>12</td>\n",
              "      <td>-1</td>\n",
              "      <td>0</td>\n",
              "      <td>NaN</td>\n",
              "      <td>14:40:26</td>\n",
              "      <td>14:41:31</td>\n",
              "      <td>65</td>\n",
              "      <td>29/7/2019</td>\n",
              "    </tr>\n",
              "  </tbody>\n",
              "</table>\n",
              "</div>"
            ],
            "text/plain": [
              "   age    job_type marital_status  ...  call_end  call_time       date\n",
              "0   65     retired        married  ...  12:30:56        523   8/4/2019\n",
              "1   36  management        married  ...  18:07:40        475  15/5/2019\n",
              "2   37  management        married  ...  14:10:56        337   7/9/2019\n",
              "3   30  management         single  ...  09:47:54     -27933  14/5/2019\n",
              "4   41  management        married  ...  14:41:31         65  29/7/2019\n",
              "\n",
              "[5 rows x 19 columns]"
            ]
          },
          "metadata": {
            "tags": []
          },
          "execution_count": 699
        }
      ]
    },
    {
      "cell_type": "code",
      "metadata": {
        "id": "f-9Xbx8riiwe"
      },
      "source": [
        "df[\"days_passed\"] = pd.to_datetime(df[\"date\"].values, format = \"%d/%M/%Y\")\n",
        "df2[\"days_passed\"] = pd.to_datetime(df2[\"date\"].values, format = \"%d/%M/%Y\")"
      ],
      "execution_count": null,
      "outputs": []
    },
    {
      "cell_type": "code",
      "metadata": {
        "colab": {
          "base_uri": "https://localhost:8080/",
          "height": 304
        },
        "id": "HSvt602Hmruc",
        "outputId": "99d70a3b-78ab-4145-fc28-11ab32bec58a"
      },
      "source": [
        "df.describe()"
      ],
      "execution_count": null,
      "outputs": [
        {
          "output_type": "execute_result",
          "data": {
            "text/html": [
              "<div>\n",
              "<style scoped>\n",
              "    .dataframe tbody tr th:only-of-type {\n",
              "        vertical-align: middle;\n",
              "    }\n",
              "\n",
              "    .dataframe tbody tr th {\n",
              "        vertical-align: top;\n",
              "    }\n",
              "\n",
              "    .dataframe thead th {\n",
              "        text-align: right;\n",
              "    }\n",
              "</style>\n",
              "<table border=\"1\" class=\"dataframe\">\n",
              "  <thead>\n",
              "    <tr style=\"text-align: right;\">\n",
              "      <th></th>\n",
              "      <th>age</th>\n",
              "      <th>default_or_not</th>\n",
              "      <th>balance_amt</th>\n",
              "      <th>household_insurance</th>\n",
              "      <th>car_loan</th>\n",
              "      <th>last_contact_day</th>\n",
              "      <th>no_of_contacts</th>\n",
              "      <th>prev_attempts</th>\n",
              "      <th>car_insurance</th>\n",
              "      <th>call_time</th>\n",
              "    </tr>\n",
              "  </thead>\n",
              "  <tbody>\n",
              "    <tr>\n",
              "      <th>count</th>\n",
              "      <td>3102.000000</td>\n",
              "      <td>3102.000000</td>\n",
              "      <td>3102.000000</td>\n",
              "      <td>3102.000000</td>\n",
              "      <td>3102.000000</td>\n",
              "      <td>3102.000000</td>\n",
              "      <td>3102.000000</td>\n",
              "      <td>3102.000000</td>\n",
              "      <td>3102.000000</td>\n",
              "      <td>3102.000000</td>\n",
              "    </tr>\n",
              "    <tr>\n",
              "      <th>mean</th>\n",
              "      <td>41.235332</td>\n",
              "      <td>0.014507</td>\n",
              "      <td>1543.067240</td>\n",
              "      <td>0.465184</td>\n",
              "      <td>0.114442</td>\n",
              "      <td>15.353965</td>\n",
              "      <td>2.356867</td>\n",
              "      <td>0.792392</td>\n",
              "      <td>0.567376</td>\n",
              "      <td>1522.525790</td>\n",
              "    </tr>\n",
              "    <tr>\n",
              "      <th>std</th>\n",
              "      <td>11.520326</td>\n",
              "      <td>0.119587</td>\n",
              "      <td>3301.474598</td>\n",
              "      <td>0.498867</td>\n",
              "      <td>0.318399</td>\n",
              "      <td>8.164255</td>\n",
              "      <td>2.594238</td>\n",
              "      <td>2.224740</td>\n",
              "      <td>0.495520</td>\n",
              "      <td>7463.072387</td>\n",
              "    </tr>\n",
              "    <tr>\n",
              "      <th>min</th>\n",
              "      <td>18.000000</td>\n",
              "      <td>0.000000</td>\n",
              "      <td>-3058.000000</td>\n",
              "      <td>0.000000</td>\n",
              "      <td>0.000000</td>\n",
              "      <td>1.000000</td>\n",
              "      <td>1.000000</td>\n",
              "      <td>0.000000</td>\n",
              "      <td>0.000000</td>\n",
              "      <td>-30093.000000</td>\n",
              "    </tr>\n",
              "    <tr>\n",
              "      <th>25%</th>\n",
              "      <td>32.000000</td>\n",
              "      <td>0.000000</td>\n",
              "      <td>123.821352</td>\n",
              "      <td>0.000000</td>\n",
              "      <td>0.000000</td>\n",
              "      <td>8.000000</td>\n",
              "      <td>1.000000</td>\n",
              "      <td>0.000000</td>\n",
              "      <td>0.000000</td>\n",
              "      <td>134.000000</td>\n",
              "    </tr>\n",
              "    <tr>\n",
              "      <th>50%</th>\n",
              "      <td>39.000000</td>\n",
              "      <td>0.000000</td>\n",
              "      <td>589.000000</td>\n",
              "      <td>0.000000</td>\n",
              "      <td>0.000000</td>\n",
              "      <td>15.000000</td>\n",
              "      <td>2.000000</td>\n",
              "      <td>0.000000</td>\n",
              "      <td>1.000000</td>\n",
              "      <td>282.000000</td>\n",
              "    </tr>\n",
              "    <tr>\n",
              "      <th>75%</th>\n",
              "      <td>49.000000</td>\n",
              "      <td>0.000000</td>\n",
              "      <td>1696.000000</td>\n",
              "      <td>1.000000</td>\n",
              "      <td>0.000000</td>\n",
              "      <td>21.000000</td>\n",
              "      <td>3.000000</td>\n",
              "      <td>1.000000</td>\n",
              "      <td>1.000000</td>\n",
              "      <td>669.750000</td>\n",
              "    </tr>\n",
              "    <tr>\n",
              "      <th>max</th>\n",
              "      <td>92.000000</td>\n",
              "      <td>1.000000</td>\n",
              "      <td>52587.000000</td>\n",
              "      <td>1.000000</td>\n",
              "      <td>1.000000</td>\n",
              "      <td>31.000000</td>\n",
              "      <td>43.000000</td>\n",
              "      <td>58.000000</td>\n",
              "      <td>1.000000</td>\n",
              "      <td>29733.000000</td>\n",
              "    </tr>\n",
              "  </tbody>\n",
              "</table>\n",
              "</div>"
            ],
            "text/plain": [
              "               age  default_or_not  ...  car_insurance     call_time\n",
              "count  3102.000000     3102.000000  ...    3102.000000   3102.000000\n",
              "mean     41.235332        0.014507  ...       0.567376   1522.525790\n",
              "std      11.520326        0.119587  ...       0.495520   7463.072387\n",
              "min      18.000000        0.000000  ...       0.000000 -30093.000000\n",
              "25%      32.000000        0.000000  ...       0.000000    134.000000\n",
              "50%      39.000000        0.000000  ...       1.000000    282.000000\n",
              "75%      49.000000        0.000000  ...       1.000000    669.750000\n",
              "max      92.000000        1.000000  ...       1.000000  29733.000000\n",
              "\n",
              "[8 rows x 10 columns]"
            ]
          },
          "metadata": {
            "tags": []
          },
          "execution_count": 701
        }
      ]
    },
    {
      "cell_type": "code",
      "metadata": {
        "id": "RDt0KDOFmbIh"
      },
      "source": [
        "df[\"days_passed\"] = pd.to_datetime(\"01/01/2030\", format= \"%d/%M/%Y\") - df[\"days_passed\"]\n",
        "df[\"days_passed\"] = df[\"days_passed\"].astype(int) // 10 ** 9"
      ],
      "execution_count": null,
      "outputs": []
    },
    {
      "cell_type": "code",
      "metadata": {
        "id": "dPdJrPrzT4Eq"
      },
      "source": [
        "df2[\"days_passed\"] = pd.to_datetime(\"01/01/2030\", format= \"%d/%M/%Y\") - df2[\"days_passed\"]\n",
        "df2[\"days_passed\"] = df[\"days_passed\"].astype(int) // 10 ** 9"
      ],
      "execution_count": null,
      "outputs": []
    },
    {
      "cell_type": "code",
      "metadata": {
        "colab": {
          "base_uri": "https://localhost:8080/",
          "height": 422
        },
        "id": "UkgLqSNUmOC0",
        "outputId": "2a45ff23-95f2-4642-9833-784d6119ce99"
      },
      "source": [
        "df"
      ],
      "execution_count": null,
      "outputs": [
        {
          "output_type": "execute_result",
          "data": {
            "text/html": [
              "<div>\n",
              "<style scoped>\n",
              "    .dataframe tbody tr th:only-of-type {\n",
              "        vertical-align: middle;\n",
              "    }\n",
              "\n",
              "    .dataframe tbody tr th {\n",
              "        vertical-align: top;\n",
              "    }\n",
              "\n",
              "    .dataframe thead th {\n",
              "        text-align: right;\n",
              "    }\n",
              "</style>\n",
              "<table border=\"1\" class=\"dataframe\">\n",
              "  <thead>\n",
              "    <tr style=\"text-align: right;\">\n",
              "      <th></th>\n",
              "      <th>age</th>\n",
              "      <th>job_type</th>\n",
              "      <th>marital_status</th>\n",
              "      <th>education_level</th>\n",
              "      <th>default_or_not</th>\n",
              "      <th>balance_amt</th>\n",
              "      <th>household_insurance</th>\n",
              "      <th>car_loan</th>\n",
              "      <th>communication</th>\n",
              "      <th>last_contact_day</th>\n",
              "      <th>last_contact_month</th>\n",
              "      <th>no_of_contacts</th>\n",
              "      <th>days_passed</th>\n",
              "      <th>prev_attempts</th>\n",
              "      <th>Outcome</th>\n",
              "      <th>call_start</th>\n",
              "      <th>call_end</th>\n",
              "      <th>car_insurance</th>\n",
              "      <th>call_time</th>\n",
              "      <th>date</th>\n",
              "    </tr>\n",
              "  </thead>\n",
              "  <tbody>\n",
              "    <tr>\n",
              "      <th>0</th>\n",
              "      <td>47</td>\n",
              "      <td>blue-collar</td>\n",
              "      <td>married</td>\n",
              "      <td>primary</td>\n",
              "      <td>0</td>\n",
              "      <td>1112.000000</td>\n",
              "      <td>1</td>\n",
              "      <td>0</td>\n",
              "      <td>cellular</td>\n",
              "      <td>13</td>\n",
              "      <td>5</td>\n",
              "      <td>1</td>\n",
              "      <td>346118160</td>\n",
              "      <td>0</td>\n",
              "      <td>NaN</td>\n",
              "      <td>10:22:20</td>\n",
              "      <td>10:24:29</td>\n",
              "      <td>0</td>\n",
              "      <td>129</td>\n",
              "      <td>13/5/2019</td>\n",
              "    </tr>\n",
              "    <tr>\n",
              "      <th>1</th>\n",
              "      <td>46</td>\n",
              "      <td>management</td>\n",
              "      <td>married</td>\n",
              "      <td>tertiary</td>\n",
              "      <td>0</td>\n",
              "      <td>1.312372</td>\n",
              "      <td>0</td>\n",
              "      <td>1</td>\n",
              "      <td>cellular</td>\n",
              "      <td>15</td>\n",
              "      <td>5</td>\n",
              "      <td>3</td>\n",
              "      <td>345945360</td>\n",
              "      <td>1</td>\n",
              "      <td>other</td>\n",
              "      <td>09:06:30</td>\n",
              "      <td>13:59:48</td>\n",
              "      <td>1</td>\n",
              "      <td>17598</td>\n",
              "      <td>15/5/2019</td>\n",
              "    </tr>\n",
              "    <tr>\n",
              "      <th>2</th>\n",
              "      <td>36</td>\n",
              "      <td>services</td>\n",
              "      <td>single</td>\n",
              "      <td>NaN</td>\n",
              "      <td>0</td>\n",
              "      <td>281.000000</td>\n",
              "      <td>1</td>\n",
              "      <td>0</td>\n",
              "      <td>NaN</td>\n",
              "      <td>16</td>\n",
              "      <td>5</td>\n",
              "      <td>1</td>\n",
              "      <td>345858960</td>\n",
              "      <td>0</td>\n",
              "      <td>NaN</td>\n",
              "      <td>13:18:41</td>\n",
              "      <td>13:27:16</td>\n",
              "      <td>1</td>\n",
              "      <td>515</td>\n",
              "      <td>16/5/2019</td>\n",
              "    </tr>\n",
              "    <tr>\n",
              "      <th>3</th>\n",
              "      <td>32</td>\n",
              "      <td>technician</td>\n",
              "      <td>single</td>\n",
              "      <td>secondary</td>\n",
              "      <td>0</td>\n",
              "      <td>540.000000</td>\n",
              "      <td>0</td>\n",
              "      <td>1</td>\n",
              "      <td>cellular</td>\n",
              "      <td>29</td>\n",
              "      <td>1</td>\n",
              "      <td>1</td>\n",
              "      <td>344736000</td>\n",
              "      <td>0</td>\n",
              "      <td>NaN</td>\n",
              "      <td>10:09:18</td>\n",
              "      <td>10:21:48</td>\n",
              "      <td>1</td>\n",
              "      <td>750</td>\n",
              "      <td>29/1/2019</td>\n",
              "    </tr>\n",
              "    <tr>\n",
              "      <th>4</th>\n",
              "      <td>30</td>\n",
              "      <td>admin.</td>\n",
              "      <td>single</td>\n",
              "      <td>secondary</td>\n",
              "      <td>0</td>\n",
              "      <td>315.000000</td>\n",
              "      <td>1</td>\n",
              "      <td>0</td>\n",
              "      <td>cellular</td>\n",
              "      <td>14</td>\n",
              "      <td>5</td>\n",
              "      <td>3</td>\n",
              "      <td>346031760</td>\n",
              "      <td>4</td>\n",
              "      <td>failure</td>\n",
              "      <td>12:12:30</td>\n",
              "      <td>12:27:14</td>\n",
              "      <td>1</td>\n",
              "      <td>884</td>\n",
              "      <td>14/5/2019</td>\n",
              "    </tr>\n",
              "    <tr>\n",
              "      <th>...</th>\n",
              "      <td>...</td>\n",
              "      <td>...</td>\n",
              "      <td>...</td>\n",
              "      <td>...</td>\n",
              "      <td>...</td>\n",
              "      <td>...</td>\n",
              "      <td>...</td>\n",
              "      <td>...</td>\n",
              "      <td>...</td>\n",
              "      <td>...</td>\n",
              "      <td>...</td>\n",
              "      <td>...</td>\n",
              "      <td>...</td>\n",
              "      <td>...</td>\n",
              "      <td>...</td>\n",
              "      <td>...</td>\n",
              "      <td>...</td>\n",
              "      <td>...</td>\n",
              "      <td>...</td>\n",
              "      <td>...</td>\n",
              "    </tr>\n",
              "    <tr>\n",
              "      <th>3097</th>\n",
              "      <td>44</td>\n",
              "      <td>technician</td>\n",
              "      <td>single</td>\n",
              "      <td>NaN</td>\n",
              "      <td>0</td>\n",
              "      <td>78.000000</td>\n",
              "      <td>1</td>\n",
              "      <td>0</td>\n",
              "      <td>NaN</td>\n",
              "      <td>6</td>\n",
              "      <td>5</td>\n",
              "      <td>6</td>\n",
              "      <td>346722960</td>\n",
              "      <td>0</td>\n",
              "      <td>NaN</td>\n",
              "      <td>10:08:24</td>\n",
              "      <td>10:08:37</td>\n",
              "      <td>0</td>\n",
              "      <td>13</td>\n",
              "      <td>6/5/2019</td>\n",
              "    </tr>\n",
              "    <tr>\n",
              "      <th>3098</th>\n",
              "      <td>57</td>\n",
              "      <td>admin.</td>\n",
              "      <td>married</td>\n",
              "      <td>secondary</td>\n",
              "      <td>0</td>\n",
              "      <td>4168.000000</td>\n",
              "      <td>1</td>\n",
              "      <td>1</td>\n",
              "      <td>NaN</td>\n",
              "      <td>16</td>\n",
              "      <td>5</td>\n",
              "      <td>1</td>\n",
              "      <td>345858960</td>\n",
              "      <td>0</td>\n",
              "      <td>NaN</td>\n",
              "      <td>16:06:03</td>\n",
              "      <td>16:06:50</td>\n",
              "      <td>0</td>\n",
              "      <td>47</td>\n",
              "      <td>16/5/2019</td>\n",
              "    </tr>\n",
              "    <tr>\n",
              "      <th>3099</th>\n",
              "      <td>51</td>\n",
              "      <td>entrepreneur</td>\n",
              "      <td>married</td>\n",
              "      <td>tertiary</td>\n",
              "      <td>0</td>\n",
              "      <td>83.000000</td>\n",
              "      <td>0</td>\n",
              "      <td>0</td>\n",
              "      <td>cellular</td>\n",
              "      <td>20</td>\n",
              "      <td>4</td>\n",
              "      <td>2</td>\n",
              "      <td>345513420</td>\n",
              "      <td>0</td>\n",
              "      <td>NaN</td>\n",
              "      <td>13:42:56</td>\n",
              "      <td>13:47:23</td>\n",
              "      <td>1</td>\n",
              "      <td>267</td>\n",
              "      <td>20/4/2019</td>\n",
              "    </tr>\n",
              "    <tr>\n",
              "      <th>3100</th>\n",
              "      <td>61</td>\n",
              "      <td>blue-collar</td>\n",
              "      <td>married</td>\n",
              "      <td>primary</td>\n",
              "      <td>0</td>\n",
              "      <td>5.000000</td>\n",
              "      <td>0</td>\n",
              "      <td>0</td>\n",
              "      <td>cellular</td>\n",
              "      <td>6</td>\n",
              "      <td>8</td>\n",
              "      <td>2</td>\n",
              "      <td>346722780</td>\n",
              "      <td>3</td>\n",
              "      <td>success</td>\n",
              "      <td>13:54:28</td>\n",
              "      <td>14:03:50</td>\n",
              "      <td>1</td>\n",
              "      <td>562</td>\n",
              "      <td>6/8/2019</td>\n",
              "    </tr>\n",
              "    <tr>\n",
              "      <th>3101</th>\n",
              "      <td>53</td>\n",
              "      <td>technician</td>\n",
              "      <td>married</td>\n",
              "      <td>secondary</td>\n",
              "      <td>0</td>\n",
              "      <td>284.000000</td>\n",
              "      <td>0</td>\n",
              "      <td>0</td>\n",
              "      <td>cellular</td>\n",
              "      <td>1</td>\n",
              "      <td>6</td>\n",
              "      <td>1</td>\n",
              "      <td>347154900</td>\n",
              "      <td>0</td>\n",
              "      <td>NaN</td>\n",
              "      <td>16:37:35</td>\n",
              "      <td>16:50:36</td>\n",
              "      <td>1</td>\n",
              "      <td>781</td>\n",
              "      <td>1/6/2019</td>\n",
              "    </tr>\n",
              "  </tbody>\n",
              "</table>\n",
              "<p>3102 rows × 20 columns</p>\n",
              "</div>"
            ],
            "text/plain": [
              "      age      job_type marital_status  ... car_insurance  call_time       date\n",
              "0      47   blue-collar        married  ...             0        129  13/5/2019\n",
              "1      46    management        married  ...             1      17598  15/5/2019\n",
              "2      36      services         single  ...             1        515  16/5/2019\n",
              "3      32    technician         single  ...             1        750  29/1/2019\n",
              "4      30        admin.         single  ...             1        884  14/5/2019\n",
              "...   ...           ...            ...  ...           ...        ...        ...\n",
              "3097   44    technician         single  ...             0         13   6/5/2019\n",
              "3098   57        admin.        married  ...             0         47  16/5/2019\n",
              "3099   51  entrepreneur        married  ...             1        267  20/4/2019\n",
              "3100   61   blue-collar        married  ...             1        562   6/8/2019\n",
              "3101   53    technician        married  ...             1        781   1/6/2019\n",
              "\n",
              "[3102 rows x 20 columns]"
            ]
          },
          "metadata": {
            "tags": []
          },
          "execution_count": 704
        }
      ]
    },
    {
      "cell_type": "code",
      "metadata": {
        "colab": {
          "base_uri": "https://localhost:8080/",
          "height": 422
        },
        "id": "DtKYXMeLT9Cn",
        "outputId": "e7b1d7bb-bc7c-4ba9-9799-ec8382a9f38f"
      },
      "source": [
        "df2"
      ],
      "execution_count": null,
      "outputs": [
        {
          "output_type": "execute_result",
          "data": {
            "text/html": [
              "<div>\n",
              "<style scoped>\n",
              "    .dataframe tbody tr th:only-of-type {\n",
              "        vertical-align: middle;\n",
              "    }\n",
              "\n",
              "    .dataframe tbody tr th {\n",
              "        vertical-align: top;\n",
              "    }\n",
              "\n",
              "    .dataframe thead th {\n",
              "        text-align: right;\n",
              "    }\n",
              "</style>\n",
              "<table border=\"1\" class=\"dataframe\">\n",
              "  <thead>\n",
              "    <tr style=\"text-align: right;\">\n",
              "      <th></th>\n",
              "      <th>age</th>\n",
              "      <th>job_type</th>\n",
              "      <th>marital_status</th>\n",
              "      <th>education_level</th>\n",
              "      <th>default_or_not</th>\n",
              "      <th>balance_amt</th>\n",
              "      <th>household_insurance</th>\n",
              "      <th>car_loan</th>\n",
              "      <th>communication</th>\n",
              "      <th>last_contact_day</th>\n",
              "      <th>last_contact_month</th>\n",
              "      <th>no_of_contacts</th>\n",
              "      <th>days_passed</th>\n",
              "      <th>prev_attempts</th>\n",
              "      <th>Outcome</th>\n",
              "      <th>call_start</th>\n",
              "      <th>call_end</th>\n",
              "      <th>call_time</th>\n",
              "      <th>date</th>\n",
              "    </tr>\n",
              "  </thead>\n",
              "  <tbody>\n",
              "    <tr>\n",
              "      <th>0</th>\n",
              "      <td>65</td>\n",
              "      <td>retired</td>\n",
              "      <td>married</td>\n",
              "      <td>secondary</td>\n",
              "      <td>0</td>\n",
              "      <td>20806.0</td>\n",
              "      <td>0</td>\n",
              "      <td>0</td>\n",
              "      <td>telephone</td>\n",
              "      <td>8</td>\n",
              "      <td>4</td>\n",
              "      <td>2</td>\n",
              "      <td>0</td>\n",
              "      <td>0</td>\n",
              "      <td>NaN</td>\n",
              "      <td>12:22:13</td>\n",
              "      <td>12:30:56</td>\n",
              "      <td>523</td>\n",
              "      <td>8/4/2019</td>\n",
              "    </tr>\n",
              "    <tr>\n",
              "      <th>1</th>\n",
              "      <td>36</td>\n",
              "      <td>management</td>\n",
              "      <td>married</td>\n",
              "      <td>tertiary</td>\n",
              "      <td>0</td>\n",
              "      <td>900.0</td>\n",
              "      <td>1</td>\n",
              "      <td>0</td>\n",
              "      <td>NaN</td>\n",
              "      <td>15</td>\n",
              "      <td>5</td>\n",
              "      <td>2</td>\n",
              "      <td>0</td>\n",
              "      <td>0</td>\n",
              "      <td>NaN</td>\n",
              "      <td>17:59:45</td>\n",
              "      <td>18:07:40</td>\n",
              "      <td>475</td>\n",
              "      <td>15/5/2019</td>\n",
              "    </tr>\n",
              "    <tr>\n",
              "      <th>2</th>\n",
              "      <td>37</td>\n",
              "      <td>management</td>\n",
              "      <td>married</td>\n",
              "      <td>tertiary</td>\n",
              "      <td>0</td>\n",
              "      <td>6771.0</td>\n",
              "      <td>0</td>\n",
              "      <td>0</td>\n",
              "      <td>cellular</td>\n",
              "      <td>7</td>\n",
              "      <td>9</td>\n",
              "      <td>1</td>\n",
              "      <td>0</td>\n",
              "      <td>1</td>\n",
              "      <td>success</td>\n",
              "      <td>14:05:19</td>\n",
              "      <td>14:10:56</td>\n",
              "      <td>337</td>\n",
              "      <td>7/9/2019</td>\n",
              "    </tr>\n",
              "    <tr>\n",
              "      <th>3</th>\n",
              "      <td>30</td>\n",
              "      <td>management</td>\n",
              "      <td>single</td>\n",
              "      <td>tertiary</td>\n",
              "      <td>0</td>\n",
              "      <td>0.0</td>\n",
              "      <td>0</td>\n",
              "      <td>0</td>\n",
              "      <td>cellular</td>\n",
              "      <td>14</td>\n",
              "      <td>5</td>\n",
              "      <td>2</td>\n",
              "      <td>0</td>\n",
              "      <td>0</td>\n",
              "      <td>NaN</td>\n",
              "      <td>17:33:27</td>\n",
              "      <td>09:47:54</td>\n",
              "      <td>-27933</td>\n",
              "      <td>14/5/2019</td>\n",
              "    </tr>\n",
              "    <tr>\n",
              "      <th>4</th>\n",
              "      <td>41</td>\n",
              "      <td>management</td>\n",
              "      <td>married</td>\n",
              "      <td>tertiary</td>\n",
              "      <td>0</td>\n",
              "      <td>328.0</td>\n",
              "      <td>1</td>\n",
              "      <td>0</td>\n",
              "      <td>cellular</td>\n",
              "      <td>29</td>\n",
              "      <td>7</td>\n",
              "      <td>12</td>\n",
              "      <td>0</td>\n",
              "      <td>0</td>\n",
              "      <td>NaN</td>\n",
              "      <td>14:40:26</td>\n",
              "      <td>14:41:31</td>\n",
              "      <td>65</td>\n",
              "      <td>29/7/2019</td>\n",
              "    </tr>\n",
              "    <tr>\n",
              "      <th>...</th>\n",
              "      <td>...</td>\n",
              "      <td>...</td>\n",
              "      <td>...</td>\n",
              "      <td>...</td>\n",
              "      <td>...</td>\n",
              "      <td>...</td>\n",
              "      <td>...</td>\n",
              "      <td>...</td>\n",
              "      <td>...</td>\n",
              "      <td>...</td>\n",
              "      <td>...</td>\n",
              "      <td>...</td>\n",
              "      <td>...</td>\n",
              "      <td>...</td>\n",
              "      <td>...</td>\n",
              "      <td>...</td>\n",
              "      <td>...</td>\n",
              "      <td>...</td>\n",
              "      <td>...</td>\n",
              "    </tr>\n",
              "    <tr>\n",
              "      <th>930</th>\n",
              "      <td>31</td>\n",
              "      <td>blue-collar</td>\n",
              "      <td>married</td>\n",
              "      <td>secondary</td>\n",
              "      <td>0</td>\n",
              "      <td>152.0</td>\n",
              "      <td>1</td>\n",
              "      <td>1</td>\n",
              "      <td>cellular</td>\n",
              "      <td>8</td>\n",
              "      <td>7</td>\n",
              "      <td>1</td>\n",
              "      <td>0</td>\n",
              "      <td>0</td>\n",
              "      <td>NaN</td>\n",
              "      <td>16:28:02</td>\n",
              "      <td>16:41:53</td>\n",
              "      <td>831</td>\n",
              "      <td>8/7/2019</td>\n",
              "    </tr>\n",
              "    <tr>\n",
              "      <th>931</th>\n",
              "      <td>30</td>\n",
              "      <td>technician</td>\n",
              "      <td>single</td>\n",
              "      <td>secondary</td>\n",
              "      <td>0</td>\n",
              "      <td>53.0</td>\n",
              "      <td>1</td>\n",
              "      <td>0</td>\n",
              "      <td>cellular</td>\n",
              "      <td>18</td>\n",
              "      <td>7</td>\n",
              "      <td>5</td>\n",
              "      <td>0</td>\n",
              "      <td>0</td>\n",
              "      <td>NaN</td>\n",
              "      <td>15:31:18</td>\n",
              "      <td>15:37:10</td>\n",
              "      <td>352</td>\n",
              "      <td>18/7/2019</td>\n",
              "    </tr>\n",
              "    <tr>\n",
              "      <th>932</th>\n",
              "      <td>42</td>\n",
              "      <td>management</td>\n",
              "      <td>married</td>\n",
              "      <td>tertiary</td>\n",
              "      <td>0</td>\n",
              "      <td>36.0</td>\n",
              "      <td>0</td>\n",
              "      <td>0</td>\n",
              "      <td>cellular</td>\n",
              "      <td>21</td>\n",
              "      <td>11</td>\n",
              "      <td>3</td>\n",
              "      <td>0</td>\n",
              "      <td>0</td>\n",
              "      <td>NaN</td>\n",
              "      <td>11:38:43</td>\n",
              "      <td>11:49:47</td>\n",
              "      <td>664</td>\n",
              "      <td>21/11/2019</td>\n",
              "    </tr>\n",
              "    <tr>\n",
              "      <th>933</th>\n",
              "      <td>46</td>\n",
              "      <td>services</td>\n",
              "      <td>married</td>\n",
              "      <td>secondary</td>\n",
              "      <td>0</td>\n",
              "      <td>2948.0</td>\n",
              "      <td>0</td>\n",
              "      <td>0</td>\n",
              "      <td>cellular</td>\n",
              "      <td>21</td>\n",
              "      <td>11</td>\n",
              "      <td>1</td>\n",
              "      <td>0</td>\n",
              "      <td>0</td>\n",
              "      <td>NaN</td>\n",
              "      <td>13:17:55</td>\n",
              "      <td>13:32:48</td>\n",
              "      <td>893</td>\n",
              "      <td>21/11/2019</td>\n",
              "    </tr>\n",
              "    <tr>\n",
              "      <th>934</th>\n",
              "      <td>54</td>\n",
              "      <td>blue-collar</td>\n",
              "      <td>married</td>\n",
              "      <td>secondary</td>\n",
              "      <td>0</td>\n",
              "      <td>548.0</td>\n",
              "      <td>0</td>\n",
              "      <td>0</td>\n",
              "      <td>cellular</td>\n",
              "      <td>18</td>\n",
              "      <td>8</td>\n",
              "      <td>7</td>\n",
              "      <td>0</td>\n",
              "      <td>0</td>\n",
              "      <td>NaN</td>\n",
              "      <td>17:59:12</td>\n",
              "      <td>18:07:52</td>\n",
              "      <td>520</td>\n",
              "      <td>18/8/2019</td>\n",
              "    </tr>\n",
              "  </tbody>\n",
              "</table>\n",
              "<p>935 rows × 19 columns</p>\n",
              "</div>"
            ],
            "text/plain": [
              "     age     job_type marital_status  ...  call_end  call_time        date\n",
              "0     65      retired        married  ...  12:30:56        523    8/4/2019\n",
              "1     36   management        married  ...  18:07:40        475   15/5/2019\n",
              "2     37   management        married  ...  14:10:56        337    7/9/2019\n",
              "3     30   management         single  ...  09:47:54     -27933   14/5/2019\n",
              "4     41   management        married  ...  14:41:31         65   29/7/2019\n",
              "..   ...          ...            ...  ...       ...        ...         ...\n",
              "930   31  blue-collar        married  ...  16:41:53        831    8/7/2019\n",
              "931   30   technician         single  ...  15:37:10        352   18/7/2019\n",
              "932   42   management        married  ...  11:49:47        664  21/11/2019\n",
              "933   46     services        married  ...  13:32:48        893  21/11/2019\n",
              "934   54  blue-collar        married  ...  18:07:52        520   18/8/2019\n",
              "\n",
              "[935 rows x 19 columns]"
            ]
          },
          "metadata": {
            "tags": []
          },
          "execution_count": 705
        }
      ]
    },
    {
      "cell_type": "code",
      "metadata": {
        "colab": {
          "base_uri": "https://localhost:8080/"
        },
        "id": "p4gbZbTF9fdx",
        "outputId": "d77c0fcf-a953-4f0f-c6ac-610688c74310"
      },
      "source": [
        "alpha = df.corr()\n",
        "alpha[\"car_insurance\"]"
      ],
      "execution_count": null,
      "outputs": [
        {
          "output_type": "execute_result",
          "data": {
            "text/plain": [
              "age                    0.041905\n",
              "default_or_not        -0.046430\n",
              "balance_amt            0.041643\n",
              "household_insurance   -0.183577\n",
              "car_loan              -0.070349\n",
              "last_contact_day      -0.068710\n",
              "no_of_contacts        -0.134481\n",
              "days_passed            0.068703\n",
              "prev_attempts          0.120926\n",
              "car_insurance          1.000000\n",
              "call_time              0.153943\n",
              "Name: car_insurance, dtype: float64"
            ]
          },
          "metadata": {
            "tags": []
          },
          "execution_count": 706
        }
      ]
    },
    {
      "cell_type": "code",
      "metadata": {
        "id": "BCwH0XfX2kO8"
      },
      "source": [
        "train = df.drop(columns = [\"Outcome\", \"communication\", \"call_start\", \"call_end\", \"last_contact_day\", \"last_contact_month\"], inplace = False)\n",
        "test = df2.drop(columns = [\"Outcome\", \"communication\", \"call_start\", \"call_end\", \"last_contact_day\", \"last_contact_month\"], inplace = False)"
      ],
      "execution_count": null,
      "outputs": []
    },
    {
      "cell_type": "code",
      "metadata": {
        "colab": {
          "base_uri": "https://localhost:8080/",
          "height": 215
        },
        "id": "2ZdKQU-7Y5GJ",
        "outputId": "c7585d95-8912-4b07-ac3b-66f82bb051ea"
      },
      "source": [
        "train.head()"
      ],
      "execution_count": null,
      "outputs": [
        {
          "output_type": "execute_result",
          "data": {
            "text/html": [
              "<div>\n",
              "<style scoped>\n",
              "    .dataframe tbody tr th:only-of-type {\n",
              "        vertical-align: middle;\n",
              "    }\n",
              "\n",
              "    .dataframe tbody tr th {\n",
              "        vertical-align: top;\n",
              "    }\n",
              "\n",
              "    .dataframe thead th {\n",
              "        text-align: right;\n",
              "    }\n",
              "</style>\n",
              "<table border=\"1\" class=\"dataframe\">\n",
              "  <thead>\n",
              "    <tr style=\"text-align: right;\">\n",
              "      <th></th>\n",
              "      <th>age</th>\n",
              "      <th>job_type</th>\n",
              "      <th>marital_status</th>\n",
              "      <th>education_level</th>\n",
              "      <th>default_or_not</th>\n",
              "      <th>balance_amt</th>\n",
              "      <th>household_insurance</th>\n",
              "      <th>car_loan</th>\n",
              "      <th>no_of_contacts</th>\n",
              "      <th>days_passed</th>\n",
              "      <th>prev_attempts</th>\n",
              "      <th>car_insurance</th>\n",
              "      <th>call_time</th>\n",
              "      <th>date</th>\n",
              "    </tr>\n",
              "  </thead>\n",
              "  <tbody>\n",
              "    <tr>\n",
              "      <th>0</th>\n",
              "      <td>47</td>\n",
              "      <td>blue-collar</td>\n",
              "      <td>married</td>\n",
              "      <td>primary</td>\n",
              "      <td>0</td>\n",
              "      <td>1112.000000</td>\n",
              "      <td>1</td>\n",
              "      <td>0</td>\n",
              "      <td>1</td>\n",
              "      <td>346118160</td>\n",
              "      <td>0</td>\n",
              "      <td>0</td>\n",
              "      <td>129</td>\n",
              "      <td>13/5/2019</td>\n",
              "    </tr>\n",
              "    <tr>\n",
              "      <th>1</th>\n",
              "      <td>46</td>\n",
              "      <td>management</td>\n",
              "      <td>married</td>\n",
              "      <td>tertiary</td>\n",
              "      <td>0</td>\n",
              "      <td>1.312372</td>\n",
              "      <td>0</td>\n",
              "      <td>1</td>\n",
              "      <td>3</td>\n",
              "      <td>345945360</td>\n",
              "      <td>1</td>\n",
              "      <td>1</td>\n",
              "      <td>17598</td>\n",
              "      <td>15/5/2019</td>\n",
              "    </tr>\n",
              "    <tr>\n",
              "      <th>2</th>\n",
              "      <td>36</td>\n",
              "      <td>services</td>\n",
              "      <td>single</td>\n",
              "      <td>NaN</td>\n",
              "      <td>0</td>\n",
              "      <td>281.000000</td>\n",
              "      <td>1</td>\n",
              "      <td>0</td>\n",
              "      <td>1</td>\n",
              "      <td>345858960</td>\n",
              "      <td>0</td>\n",
              "      <td>1</td>\n",
              "      <td>515</td>\n",
              "      <td>16/5/2019</td>\n",
              "    </tr>\n",
              "    <tr>\n",
              "      <th>3</th>\n",
              "      <td>32</td>\n",
              "      <td>technician</td>\n",
              "      <td>single</td>\n",
              "      <td>secondary</td>\n",
              "      <td>0</td>\n",
              "      <td>540.000000</td>\n",
              "      <td>0</td>\n",
              "      <td>1</td>\n",
              "      <td>1</td>\n",
              "      <td>344736000</td>\n",
              "      <td>0</td>\n",
              "      <td>1</td>\n",
              "      <td>750</td>\n",
              "      <td>29/1/2019</td>\n",
              "    </tr>\n",
              "    <tr>\n",
              "      <th>4</th>\n",
              "      <td>30</td>\n",
              "      <td>admin.</td>\n",
              "      <td>single</td>\n",
              "      <td>secondary</td>\n",
              "      <td>0</td>\n",
              "      <td>315.000000</td>\n",
              "      <td>1</td>\n",
              "      <td>0</td>\n",
              "      <td>3</td>\n",
              "      <td>346031760</td>\n",
              "      <td>4</td>\n",
              "      <td>1</td>\n",
              "      <td>884</td>\n",
              "      <td>14/5/2019</td>\n",
              "    </tr>\n",
              "  </tbody>\n",
              "</table>\n",
              "</div>"
            ],
            "text/plain": [
              "   age     job_type marital_status  ... car_insurance  call_time       date\n",
              "0   47  blue-collar        married  ...             0        129  13/5/2019\n",
              "1   46   management        married  ...             1      17598  15/5/2019\n",
              "2   36     services         single  ...             1        515  16/5/2019\n",
              "3   32   technician         single  ...             1        750  29/1/2019\n",
              "4   30       admin.         single  ...             1        884  14/5/2019\n",
              "\n",
              "[5 rows x 14 columns]"
            ]
          },
          "metadata": {
            "tags": []
          },
          "execution_count": 708
        }
      ]
    },
    {
      "cell_type": "code",
      "metadata": {
        "colab": {
          "base_uri": "https://localhost:8080/",
          "height": 215
        },
        "id": "kpg7uMFSUfwg",
        "outputId": "b8fcaaea-9e85-4b19-8251-7875dd887eda"
      },
      "source": [
        "test.head()"
      ],
      "execution_count": null,
      "outputs": [
        {
          "output_type": "execute_result",
          "data": {
            "text/html": [
              "<div>\n",
              "<style scoped>\n",
              "    .dataframe tbody tr th:only-of-type {\n",
              "        vertical-align: middle;\n",
              "    }\n",
              "\n",
              "    .dataframe tbody tr th {\n",
              "        vertical-align: top;\n",
              "    }\n",
              "\n",
              "    .dataframe thead th {\n",
              "        text-align: right;\n",
              "    }\n",
              "</style>\n",
              "<table border=\"1\" class=\"dataframe\">\n",
              "  <thead>\n",
              "    <tr style=\"text-align: right;\">\n",
              "      <th></th>\n",
              "      <th>age</th>\n",
              "      <th>job_type</th>\n",
              "      <th>marital_status</th>\n",
              "      <th>education_level</th>\n",
              "      <th>default_or_not</th>\n",
              "      <th>balance_amt</th>\n",
              "      <th>household_insurance</th>\n",
              "      <th>car_loan</th>\n",
              "      <th>no_of_contacts</th>\n",
              "      <th>days_passed</th>\n",
              "      <th>prev_attempts</th>\n",
              "      <th>call_time</th>\n",
              "      <th>date</th>\n",
              "    </tr>\n",
              "  </thead>\n",
              "  <tbody>\n",
              "    <tr>\n",
              "      <th>0</th>\n",
              "      <td>65</td>\n",
              "      <td>retired</td>\n",
              "      <td>married</td>\n",
              "      <td>secondary</td>\n",
              "      <td>0</td>\n",
              "      <td>20806.0</td>\n",
              "      <td>0</td>\n",
              "      <td>0</td>\n",
              "      <td>2</td>\n",
              "      <td>0</td>\n",
              "      <td>0</td>\n",
              "      <td>523</td>\n",
              "      <td>8/4/2019</td>\n",
              "    </tr>\n",
              "    <tr>\n",
              "      <th>1</th>\n",
              "      <td>36</td>\n",
              "      <td>management</td>\n",
              "      <td>married</td>\n",
              "      <td>tertiary</td>\n",
              "      <td>0</td>\n",
              "      <td>900.0</td>\n",
              "      <td>1</td>\n",
              "      <td>0</td>\n",
              "      <td>2</td>\n",
              "      <td>0</td>\n",
              "      <td>0</td>\n",
              "      <td>475</td>\n",
              "      <td>15/5/2019</td>\n",
              "    </tr>\n",
              "    <tr>\n",
              "      <th>2</th>\n",
              "      <td>37</td>\n",
              "      <td>management</td>\n",
              "      <td>married</td>\n",
              "      <td>tertiary</td>\n",
              "      <td>0</td>\n",
              "      <td>6771.0</td>\n",
              "      <td>0</td>\n",
              "      <td>0</td>\n",
              "      <td>1</td>\n",
              "      <td>0</td>\n",
              "      <td>1</td>\n",
              "      <td>337</td>\n",
              "      <td>7/9/2019</td>\n",
              "    </tr>\n",
              "    <tr>\n",
              "      <th>3</th>\n",
              "      <td>30</td>\n",
              "      <td>management</td>\n",
              "      <td>single</td>\n",
              "      <td>tertiary</td>\n",
              "      <td>0</td>\n",
              "      <td>0.0</td>\n",
              "      <td>0</td>\n",
              "      <td>0</td>\n",
              "      <td>2</td>\n",
              "      <td>0</td>\n",
              "      <td>0</td>\n",
              "      <td>-27933</td>\n",
              "      <td>14/5/2019</td>\n",
              "    </tr>\n",
              "    <tr>\n",
              "      <th>4</th>\n",
              "      <td>41</td>\n",
              "      <td>management</td>\n",
              "      <td>married</td>\n",
              "      <td>tertiary</td>\n",
              "      <td>0</td>\n",
              "      <td>328.0</td>\n",
              "      <td>1</td>\n",
              "      <td>0</td>\n",
              "      <td>12</td>\n",
              "      <td>0</td>\n",
              "      <td>0</td>\n",
              "      <td>65</td>\n",
              "      <td>29/7/2019</td>\n",
              "    </tr>\n",
              "  </tbody>\n",
              "</table>\n",
              "</div>"
            ],
            "text/plain": [
              "   age    job_type marital_status  ... prev_attempts  call_time       date\n",
              "0   65     retired        married  ...             0        523   8/4/2019\n",
              "1   36  management        married  ...             0        475  15/5/2019\n",
              "2   37  management        married  ...             1        337   7/9/2019\n",
              "3   30  management         single  ...             0     -27933  14/5/2019\n",
              "4   41  management        married  ...             0         65  29/7/2019\n",
              "\n",
              "[5 rows x 13 columns]"
            ]
          },
          "metadata": {
            "tags": []
          },
          "execution_count": 709
        }
      ]
    },
    {
      "cell_type": "code",
      "metadata": {
        "id": "ZkQBeipZT9E_"
      },
      "source": [
        "#Data Imputation\n",
        "from sklearn.impute import SimpleImputer\n",
        "# missing values - impute with mode (most frequent)\n",
        "mode_imputer = SimpleImputer(missing_values=np.NaN, strategy='most_frequent')\n",
        "mode_imputer = mode_imputer.fit(train[['job_type']])\n",
        "train['job_type'] = mode_imputer.transform(train[['job_type']]).ravel()\n",
        "\n",
        "mode_imputer = SimpleImputer(missing_values=np.NaN, strategy='most_frequent')\n",
        "mode_imputer = mode_imputer.fit(train[['education_level']])\n",
        "train['education_level'] = mode_imputer.transform(train[['education_level']]).ravel()\n",
        "\n",
        "\n",
        "mode_imputer = SimpleImputer(missing_values=np.NaN, strategy='most_frequent')\n",
        "mode_imputer = mode_imputer.fit(test[['job_type']])\n",
        "test['job_type'] = mode_imputer.transform(test[['job_type']]).ravel()\n",
        "\n",
        "mode_imputer = SimpleImputer(missing_values=np.NaN, strategy='most_frequent')\n",
        "mode_imputer = mode_imputer.fit(test[['education_level']])\n",
        "test['education_level'] = mode_imputer.transform(test[['education_level']]).ravel()"
      ],
      "execution_count": null,
      "outputs": []
    },
    {
      "cell_type": "code",
      "metadata": {
        "colab": {
          "base_uri": "https://localhost:8080/"
        },
        "id": "FrPf1583UkB1",
        "outputId": "1d001234-ab89-4cb9-a5a0-f5e8f280e1ea"
      },
      "source": [
        "train.isnull().sum()"
      ],
      "execution_count": null,
      "outputs": [
        {
          "output_type": "execute_result",
          "data": {
            "text/plain": [
              "age                    0\n",
              "job_type               0\n",
              "marital_status         0\n",
              "education_level        0\n",
              "default_or_not         0\n",
              "balance_amt            0\n",
              "household_insurance    0\n",
              "car_loan               0\n",
              "no_of_contacts         0\n",
              "days_passed            0\n",
              "prev_attempts          0\n",
              "car_insurance          0\n",
              "call_time              0\n",
              "date                   0\n",
              "dtype: int64"
            ]
          },
          "metadata": {
            "tags": []
          },
          "execution_count": 711
        }
      ]
    },
    {
      "cell_type": "code",
      "metadata": {
        "colab": {
          "base_uri": "https://localhost:8080/"
        },
        "id": "3L_r5rTcU2gV",
        "outputId": "5a433e0c-64fb-407d-9d8e-8fbba7400af5"
      },
      "source": [
        "test.isnull().sum()"
      ],
      "execution_count": null,
      "outputs": [
        {
          "output_type": "execute_result",
          "data": {
            "text/plain": [
              "age                    0\n",
              "job_type               0\n",
              "marital_status         0\n",
              "education_level        0\n",
              "default_or_not         0\n",
              "balance_amt            0\n",
              "household_insurance    0\n",
              "car_loan               0\n",
              "no_of_contacts         0\n",
              "days_passed            0\n",
              "prev_attempts          0\n",
              "call_time              0\n",
              "date                   0\n",
              "dtype: int64"
            ]
          },
          "metadata": {
            "tags": []
          },
          "execution_count": 712
        }
      ]
    },
    {
      "cell_type": "code",
      "metadata": {
        "colab": {
          "base_uri": "https://localhost:8080/"
        },
        "id": "NTGBW_fl1xVN",
        "outputId": "5fc0279a-3d54-473c-9e93-e1b6f10b6b6d"
      },
      "source": [
        "train.dtypes"
      ],
      "execution_count": null,
      "outputs": [
        {
          "output_type": "execute_result",
          "data": {
            "text/plain": [
              "age                      int64\n",
              "job_type                object\n",
              "marital_status          object\n",
              "education_level         object\n",
              "default_or_not           int64\n",
              "balance_amt            float64\n",
              "household_insurance      int64\n",
              "car_loan                 int64\n",
              "no_of_contacts           int64\n",
              "days_passed              int64\n",
              "prev_attempts            int64\n",
              "car_insurance            int64\n",
              "call_time                int64\n",
              "date                    object\n",
              "dtype: object"
            ]
          },
          "metadata": {
            "tags": []
          },
          "execution_count": 713
        }
      ]
    },
    {
      "cell_type": "code",
      "metadata": {
        "id": "7MG4qrXDUnLb"
      },
      "source": [
        "job_type = pd.get_dummies(data=train['job_type'], drop_first=True)\n",
        "marital_status = pd.get_dummies(data=train['marital_status'], drop_first=True)\n",
        "education_level = pd.get_dummies(data=train['education_level'], drop_first=True)\n",
        "train = pd.concat((job_type, marital_status, education_level,train), axis = 1 )\n",
        "\n",
        "\n",
        "job_type = pd.get_dummies(data=test['job_type'], drop_first=True)\n",
        "marital_status = pd.get_dummies(data=test['marital_status'], drop_first=True)\n",
        "education_level = pd.get_dummies(data=test['education_level'], drop_first=True)\n",
        "test = pd.concat((job_type, marital_status, education_level,test), axis = 1 )\n"
      ],
      "execution_count": null,
      "outputs": []
    },
    {
      "cell_type": "code",
      "metadata": {
        "colab": {
          "base_uri": "https://localhost:8080/"
        },
        "id": "-mW2k8fK5Ge6",
        "outputId": "0f0fc6ce-0576-4c61-8d9e-8e2c6692571b"
      },
      "source": [
        "print(\"There are {} features in train set\".format(len(train.columns)))\n",
        "\n",
        "print(\"There are {} features in test set\".format(len(test.columns)))"
      ],
      "execution_count": null,
      "outputs": [
        {
          "output_type": "stream",
          "text": [
            "There are 28 features in train set\n",
            "There are 27 features in test set\n"
          ],
          "name": "stdout"
        }
      ]
    },
    {
      "cell_type": "code",
      "metadata": {
        "colab": {
          "base_uri": "https://localhost:8080/"
        },
        "id": "3bXeSyLE5cdK",
        "outputId": "88a96311-14ce-43b5-c937-47aed14f46ed"
      },
      "source": [
        "missing_feature = list(set(train.columns) - set(test.columns))[0]\n",
        "\n",
        "print(missing_feature)"
      ],
      "execution_count": null,
      "outputs": [
        {
          "output_type": "stream",
          "text": [
            "car_insurance\n"
          ],
          "name": "stdout"
        }
      ]
    },
    {
      "cell_type": "code",
      "metadata": {
        "id": "POt05ln2LL_k"
      },
      "source": [
        "train.drop(columns = [\"job_type\", \"marital_status\", \"education_level\",\"date\"], inplace = True)\n",
        "\n",
        "y = train[\"car_insurance\"].values\n",
        "X = train.drop(columns = \"car_insurance\", inplace = False)\n",
        "X = X.values"
      ],
      "execution_count": null,
      "outputs": []
    },
    {
      "cell_type": "code",
      "metadata": {
        "id": "i5KSgNCL5mhI"
      },
      "source": [
        "test.drop(columns = [\"job_type\", \"marital_status\", \"education_level\",\"date\"], inplace = True)"
      ],
      "execution_count": null,
      "outputs": []
    },
    {
      "cell_type": "code",
      "metadata": {
        "colab": {
          "base_uri": "https://localhost:8080/"
        },
        "id": "nciNbUbLKqh7",
        "outputId": "f9a85140-43d2-4fdd-d044-3b731d854504"
      },
      "source": [
        "#Splitting Data\n",
        "from sklearn.model_selection import train_test_split\n",
        "X_train, X_test, y_train, y_test = train_test_split(X, y, test_size=0.25, random_state = 0)\n",
        "print(X_train.shape, y_train.shape)\n",
        "print(X_test.shape, y_test.shape)"
      ],
      "execution_count": null,
      "outputs": [
        {
          "output_type": "stream",
          "text": [
            "(2326, 23) (2326,)\n",
            "(776, 23) (776,)\n"
          ],
          "name": "stdout"
        }
      ]
    },
    {
      "cell_type": "code",
      "metadata": {
        "colab": {
          "base_uri": "https://localhost:8080/"
        },
        "id": "ZVjliImOb9vu",
        "outputId": "abda0508-799f-41d3-f877-0a8c969f286b"
      },
      "source": [
        "train.dtypes"
      ],
      "execution_count": null,
      "outputs": [
        {
          "output_type": "execute_result",
          "data": {
            "text/plain": [
              "blue-collar              uint8\n",
              "entrepreneur             uint8\n",
              "housemaid                uint8\n",
              "management               uint8\n",
              "retired                  uint8\n",
              "self-employed            uint8\n",
              "services                 uint8\n",
              "student                  uint8\n",
              "technician               uint8\n",
              "unemployed               uint8\n",
              "married                  uint8\n",
              "single                   uint8\n",
              "secondary                uint8\n",
              "tertiary                 uint8\n",
              "age                      int64\n",
              "default_or_not           int64\n",
              "balance_amt            float64\n",
              "household_insurance      int64\n",
              "car_loan                 int64\n",
              "no_of_contacts           int64\n",
              "days_passed              int64\n",
              "prev_attempts            int64\n",
              "car_insurance            int64\n",
              "call_time                int64\n",
              "dtype: object"
            ]
          },
          "metadata": {
            "tags": []
          },
          "execution_count": 720
        }
      ]
    },
    {
      "cell_type": "code",
      "metadata": {
        "colab": {
          "base_uri": "https://localhost:8080/"
        },
        "id": "X7HuECif5sto",
        "outputId": "16a44cbc-7d0b-4b52-cadd-ebf2dd0a1127"
      },
      "source": [
        "test.dtypes"
      ],
      "execution_count": null,
      "outputs": [
        {
          "output_type": "execute_result",
          "data": {
            "text/plain": [
              "blue-collar              uint8\n",
              "entrepreneur             uint8\n",
              "housemaid                uint8\n",
              "management               uint8\n",
              "retired                  uint8\n",
              "self-employed            uint8\n",
              "services                 uint8\n",
              "student                  uint8\n",
              "technician               uint8\n",
              "unemployed               uint8\n",
              "married                  uint8\n",
              "single                   uint8\n",
              "secondary                uint8\n",
              "tertiary                 uint8\n",
              "age                      int64\n",
              "default_or_not           int64\n",
              "balance_amt            float64\n",
              "household_insurance      int64\n",
              "car_loan                 int64\n",
              "no_of_contacts           int64\n",
              "days_passed              int64\n",
              "prev_attempts            int64\n",
              "call_time                int64\n",
              "dtype: object"
            ]
          },
          "metadata": {
            "tags": []
          },
          "execution_count": 721
        }
      ]
    },
    {
      "cell_type": "markdown",
      "metadata": {
        "id": "ijqQU_eEBNPK"
      },
      "source": [
        "#**Building and Evaluating different Machine Learning models**"
      ]
    },
    {
      "cell_type": "markdown",
      "metadata": {
        "id": "2rJWrNIXLn3p"
      },
      "source": [
        "#DTREE"
      ]
    },
    {
      "cell_type": "code",
      "metadata": {
        "colab": {
          "base_uri": "https://localhost:8080/"
        },
        "id": "V_-_p38LG8gG",
        "outputId": "d2d43315-39c7-45e9-c2e9-57ef4c767dab"
      },
      "source": [
        "from sklearn.tree import DecisionTreeClassifier\n",
        "DTmodel = DecisionTreeClassifier()\n",
        "DTmodel.fit(X_train, y_train)\n",
        "y_pred_DT = DTmodel.predict(X_test)\n",
        "DTmodel.score(X_test, y_test)"
      ],
      "execution_count": null,
      "outputs": [
        {
          "output_type": "execute_result",
          "data": {
            "text/plain": [
              "0.7551546391752577"
            ]
          },
          "metadata": {
            "tags": []
          },
          "execution_count": 722
        }
      ]
    },
    {
      "cell_type": "code",
      "metadata": {
        "id": "GL4CRHXbLhWa"
      },
      "source": [
        "from sklearn.tree import DecisionTreeClassifier\n",
        "DTmodel = DecisionTreeClassifier()\n",
        "DTmodel.fit(X_train, y_train)\n",
        "y_pred_DT = DTmodel.predict(test)"
      ],
      "execution_count": null,
      "outputs": []
    },
    {
      "cell_type": "code",
      "metadata": {
        "id": "9HcF4HpB6EsF"
      },
      "source": [
        "prediction = pd.DataFrame(y_pred_DT, columns=[\"prediction\"])"
      ],
      "execution_count": null,
      "outputs": []
    },
    {
      "cell_type": "code",
      "metadata": {
        "id": "mqUFe7o56ujw"
      },
      "source": [
        "prediction.to_csv(\"Charanjeev_Submission.csv\", index = False)"
      ],
      "execution_count": null,
      "outputs": []
    },
    {
      "cell_type": "markdown",
      "metadata": {
        "id": "sFbbhk2tMO_F"
      },
      "source": [
        "#KNN"
      ]
    },
    {
      "cell_type": "code",
      "metadata": {
        "colab": {
          "base_uri": "https://localhost:8080/"
        },
        "id": "I3ae297UHQpe",
        "outputId": "f2b7dc2a-b21e-4c17-b377-7aaaf43eadd2"
      },
      "source": [
        "from sklearn.neighbors import KNeighborsClassifier\n",
        "KNNmodel = KNeighborsClassifier(n_neighbors = 5)\n",
        "KNNmodel.fit(X_train, y_train)\n",
        "y_pred_KNN = KNNmodel.predict(X_test)\n",
        "KNNmodel.score(X_test, y_test)"
      ],
      "execution_count": null,
      "outputs": [
        {
          "output_type": "execute_result",
          "data": {
            "text/plain": [
              "0.7306701030927835"
            ]
          },
          "metadata": {
            "tags": []
          },
          "execution_count": 726
        }
      ]
    },
    {
      "cell_type": "code",
      "metadata": {
        "id": "9opYgFniLvV8"
      },
      "source": [
        "from sklearn.neighbors import KNeighborsClassifier\n",
        "KNNmodel = KNeighborsClassifier(n_neighbors = 5)\n",
        "KNNmodel.fit(X_train, y_train)\n",
        "y_pred_KNN = KNNmodel.predict(test)\n",
        "prediction = pd.DataFrame(y_pred_KNN, columns=[\"prediction\"])\n",
        "prediction.to_csv(\"Charanjeev_Submission_KNN.csv\", index = False)"
      ],
      "execution_count": null,
      "outputs": []
    },
    {
      "cell_type": "markdown",
      "metadata": {
        "id": "iya00w9hMi-C"
      },
      "source": [
        "#LR"
      ]
    },
    {
      "cell_type": "code",
      "metadata": {
        "colab": {
          "base_uri": "https://localhost:8080/"
        },
        "id": "ouZgaLbN_DZa",
        "outputId": "db37cdcc-90eb-4de3-f8a5-436593029021"
      },
      "source": [
        "from sklearn.linear_model import LogisticRegression\n",
        "LRmodel = LogisticRegression(random_state = 0)\n",
        "LRmodel.fit(X_train, y_train)\n",
        "y_predict_LR = LRmodel.predict(X_test)\n",
        "LRmodel.score(X_test, y_test)"
      ],
      "execution_count": null,
      "outputs": [
        {
          "output_type": "execute_result",
          "data": {
            "text/plain": [
              "0.5618556701030928"
            ]
          },
          "metadata": {
            "tags": []
          },
          "execution_count": 728
        }
      ]
    },
    {
      "cell_type": "code",
      "metadata": {
        "id": "AU0ZB8xUMVdf"
      },
      "source": [
        "from sklearn.linear_model import LogisticRegression\n",
        "LRmodel = LogisticRegression(random_state = 0)\n",
        "LRmodel.fit(X_train, y_train)\n",
        "y_predict_LR = LRmodel.predict(test)\n",
        "prediction = pd.DataFrame(y_predict_LR, columns=[\"prediction\"])\n",
        "prediction.to_csv(\"Charanjeev_Submission_LR.csv\", index = False)"
      ],
      "execution_count": null,
      "outputs": []
    },
    {
      "cell_type": "markdown",
      "metadata": {
        "id": "NOTBGY0olkAI"
      },
      "source": [
        "#SVM"
      ]
    },
    {
      "cell_type": "code",
      "metadata": {
        "colab": {
          "base_uri": "https://localhost:8080/"
        },
        "id": "ksADmAncljwO",
        "outputId": "5ddffbee-005f-4f43-e41e-4fac0ea5ff87"
      },
      "source": [
        "from sklearn.svm import SVC\n",
        "SVMmodel = SVC(random_state = 0)\n",
        "SVMmodel.fit(X_train, y_train)\n",
        "y_pred_SVM = SVMmodel.predict(X_test)\n",
        "SVMmodel.score(X_test, y_test)"
      ],
      "execution_count": null,
      "outputs": [
        {
          "output_type": "execute_result",
          "data": {
            "text/plain": [
              "0.5618556701030928"
            ]
          },
          "metadata": {
            "tags": []
          },
          "execution_count": 754
        }
      ]
    },
    {
      "cell_type": "code",
      "metadata": {
        "id": "PU1XBPoul0tZ"
      },
      "source": [
        "from sklearn.svm import SVC\n",
        "SVMmodel = SVC(random_state = 0)\n",
        "SVMmodel.fit(X_train, y_train)\n",
        "y_pred_SVM = SVMmodel.predict(test)\n",
        "prediction = pd.DataFrame(y_pred_SVM, columns=[\"prediction\"])\n",
        "prediction.to_csv(\"Charanjeev_Submission_SVM.csv\", index = False)"
      ],
      "execution_count": null,
      "outputs": []
    },
    {
      "cell_type": "markdown",
      "metadata": {
        "id": "pGB_Uh4wMykl"
      },
      "source": [
        "#RF"
      ]
    },
    {
      "cell_type": "code",
      "metadata": {
        "colab": {
          "base_uri": "https://localhost:8080/"
        },
        "id": "annK5MouMzx1",
        "outputId": "96f6db0a-c385-47ae-bf7a-2ecd4f72fa32"
      },
      "source": [
        "from sklearn.ensemble import RandomForestClassifier\n",
        "RFmodel = RandomForestClassifier(random_state = 0, n_estimators=210)\n",
        "RFmodel.fit(X_train, y_train)\n",
        "y_pred_RF = RFmodel.predict(X_test)\n",
        "RFmodel.score(X_test, y_test)"
      ],
      "execution_count": null,
      "outputs": [
        {
          "output_type": "execute_result",
          "data": {
            "text/plain": [
              "0.8530927835051546"
            ]
          },
          "metadata": {
            "tags": []
          },
          "execution_count": 752
        }
      ]
    },
    {
      "cell_type": "markdown",
      "metadata": {
        "id": "Pq5Q23d_Tokr"
      },
      "source": [
        "Since the best Accuracy is for Random Forest Classifier.\n",
        "Thus, its prediction file is used for submission"
      ]
    },
    {
      "cell_type": "markdown",
      "metadata": {
        "id": "omVN1zUsCI7U"
      },
      "source": [
        "#Prediction for test dataset"
      ]
    },
    {
      "cell_type": "code",
      "metadata": {
        "id": "YSlZuCfONBKA"
      },
      "source": [
        "from sklearn.ensemble import RandomForestClassifier\n",
        "RFmodel = RandomForestClassifier(random_state = 0, n_estimators=210)\n",
        "RFmodel.fit(X_train, y_train)\n",
        "y_predict_RF = RFmodel.predict(test)\n",
        "prediction = pd.DataFrame(y_predict_RF, columns=[\"prediction\"])\n",
        "prediction.to_csv(\"Charanjeev_Submission_RF.csv\", index = False)"
      ],
      "execution_count": null,
      "outputs": []
    }
  ]
}